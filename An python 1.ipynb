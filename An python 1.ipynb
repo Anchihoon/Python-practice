{
  "nbformat": 4,
  "nbformat_minor": 0,
  "metadata": {
    "colab": {
      "provenance": [],
      "authorship_tag": "ABX9TyNuf/QIfUdljlsghm+A/Fek",
      "include_colab_link": true
    },
    "kernelspec": {
      "name": "python3",
      "display_name": "Python 3"
    },
    "language_info": {
      "name": "python"
    }
  },
  "cells": [
    {
      "cell_type": "markdown",
      "metadata": {
        "id": "view-in-github",
        "colab_type": "text"
      },
      "source": [
        "<a href=\"https://colab.research.google.com/github/Anchihoon/Python-practice/blob/main/An%20python%201.ipynb\" target=\"_parent\"><img src=\"https://colab.research.google.com/assets/colab-badge.svg\" alt=\"Open In Colab\"/></a>"
      ]
    },
    {
      "cell_type": "code",
      "execution_count": null,
      "metadata": {
        "colab": {
          "base_uri": "https://localhost:8080/"
        },
        "id": "fVToEEzDzMv0",
        "outputId": "b2d82da7-a455-4965-ab69-43915c934042"
      },
      "outputs": [
        {
          "output_type": "stream",
          "name": "stdout",
          "text": [
            "안녕하세요\n"
          ]
        }
      ],
      "source": [
        "print('안녕하세요')\n"
      ]
    },
    {
      "cell_type": "code",
      "source": [
        "spam = 100\n",
        "spam = spam / 33\n",
        "spam"
      ],
      "metadata": {
        "colab": {
          "base_uri": "https://localhost:8080/"
        },
        "id": "NbD15JL4zdWm",
        "outputId": "5f68f412-7cb7-461a-f99b-3165e74f4560"
      },
      "execution_count": null,
      "outputs": [
        {
          "output_type": "execute_result",
          "data": {
            "text/plain": [
              "3.0303030303030303"
            ]
          },
          "metadata": {},
          "execution_count": 2
        }
      ]
    },
    {
      "cell_type": "code",
      "source": [
        "spam = 100\n",
        "mail = 33\n",
        "spam = spam / mail\n",
        "print(spam)"
      ],
      "metadata": {
        "colab": {
          "base_uri": "https://localhost:8080/"
        },
        "id": "VZbvzzus2Cfc",
        "outputId": "cfb74143-9a0d-4112-d5af-41fe728a2634"
      },
      "execution_count": null,
      "outputs": [
        {
          "output_type": "stream",
          "name": "stdout",
          "text": [
            "3.0303030303030303\n"
          ]
        }
      ]
    },
    {
      "cell_type": "code",
      "source": [
        "age = input('나이를 입력하세요')"
      ],
      "metadata": {
        "colab": {
          "base_uri": "https://localhost:8080/"
        },
        "id": "g8VhloUU24SQ",
        "outputId": "4dfad113-ca57-481a-f8d6-23cbd033f7fc"
      },
      "execution_count": null,
      "outputs": [
        {
          "name": "stdout",
          "output_type": "stream",
          "text": [
            "나이를 입력하세요23\n"
          ]
        }
      ]
    },
    {
      "cell_type": "code",
      "source": [
        "age"
      ],
      "metadata": {
        "colab": {
          "base_uri": "https://localhost:8080/",
          "height": 35
        },
        "id": "usB_NAGu3Eqx",
        "outputId": "9caeb431-6958-4bd2-84d0-2caacce471dc"
      },
      "execution_count": null,
      "outputs": [
        {
          "output_type": "execute_result",
          "data": {
            "text/plain": [
              "'23'"
            ],
            "application/vnd.google.colaboratory.intrinsic+json": {
              "type": "string"
            }
          },
          "metadata": {},
          "execution_count": 8
        }
      ]
    },
    {
      "cell_type": "code",
      "source": [
        "age + '10'"
      ],
      "metadata": {
        "colab": {
          "base_uri": "https://localhost:8080/",
          "height": 35
        },
        "id": "ZdrLiH6v3K9g",
        "outputId": "56c7c254-a395-4a9d-e72c-a198389a1ae2"
      },
      "execution_count": null,
      "outputs": [
        {
          "output_type": "execute_result",
          "data": {
            "text/plain": [
              "'2310'"
            ],
            "application/vnd.google.colaboratory.intrinsic+json": {
              "type": "string"
            }
          },
          "metadata": {},
          "execution_count": 9
        }
      ]
    },
    {
      "cell_type": "code",
      "source": [
        "age * 2"
      ],
      "metadata": {
        "colab": {
          "base_uri": "https://localhost:8080/",
          "height": 35
        },
        "id": "OWL4Bco53vh_",
        "outputId": "a7529cf7-c099-499a-92ce-2f65c4925733"
      },
      "execution_count": null,
      "outputs": [
        {
          "output_type": "execute_result",
          "data": {
            "text/plain": [
              "'2323'"
            ],
            "application/vnd.google.colaboratory.intrinsic+json": {
              "type": "string"
            }
          },
          "metadata": {},
          "execution_count": 10
        }
      ]
    },
    {
      "cell_type": "code",
      "source": [
        "# python programming Day 1\n",
        "# \"Hello world\" Programming\n",
        "\n",
        "print('Hello world!')\n",
        "print('what is your name?')\n",
        "myName = input()\n",
        "print ('it is good to meet you' + myName)"
      ],
      "metadata": {
        "colab": {
          "base_uri": "https://localhost:8080/"
        },
        "id": "-LFVl_Ax3xmG",
        "outputId": "253f0de3-3771-4347-d836-c72057e89d01"
      },
      "execution_count": null,
      "outputs": [
        {
          "output_type": "stream",
          "name": "stdout",
          "text": [
            "Hello world!\n",
            "what is your name?\n",
            "안치훈\n",
            "it is good to meet you안치훈\n"
          ]
        }
      ]
    },
    {
      "cell_type": "code",
      "source": [
        "print('Tell me what your name is.')\n",
        "name = input()\n",
        "print('Tell me where you will go.')\n",
        "where = input()\n",
        "print('Tell me purpose of travel.')\n",
        "purpose = input()\n",
        "print('Tell me how long you will stay.')\n",
        "long = input()\n",
        "print()\n",
        "\n",
        "print('Name:', name)\n",
        "print('Destination:', where)\n",
        "print('Purpose:', purpose)\n",
        "print('Length of stay:', long)"
      ],
      "metadata": {
        "colab": {
          "base_uri": "https://localhost:8080/"
        },
        "id": "6XOb1S2r_OXZ",
        "outputId": "4e0f8662-ada3-4a40-8b68-3d39300284f9"
      },
      "execution_count": null,
      "outputs": [
        {
          "output_type": "stream",
          "name": "stdout",
          "text": [
            "Tell me what your name is.\n",
            "안치훈\n",
            "Tell me where you will go.\n",
            "중국\n",
            "Tell me purpose of travel.\n",
            "여행\n",
            "Tell me how long you will stay.\n",
            "5일\n",
            "\n",
            "Name: 안치훈\n",
            "Destination: 중국\n",
            "Purpose: 여행\n",
            "Length of stay: 5일\n"
          ]
        }
      ]
    },
    {
      "cell_type": "code",
      "source": [
        "x = '10'\n",
        "int(x) #이줄에서만 x를 정수로 바꾸기 떄문에 마지막에 줄에 문자열+숫자라 실행이안됨\n",
        "print(x+10)"
      ],
      "metadata": {
        "colab": {
          "base_uri": "https://localhost:8080/",
          "height": 211
        },
        "id": "sF-dXTciBK2Y",
        "outputId": "a79d640a-6aaa-4f2d-8de1-a6a31024ec80"
      },
      "execution_count": null,
      "outputs": [
        {
          "output_type": "error",
          "ename": "TypeError",
          "evalue": "ignored",
          "traceback": [
            "\u001b[0;31m---------------------------------------------------------------------------\u001b[0m",
            "\u001b[0;31mTypeError\u001b[0m                                 Traceback (most recent call last)",
            "\u001b[0;32m<ipython-input-18-7116ad9fedc3>\u001b[0m in \u001b[0;36m<module>\u001b[0;34m\u001b[0m\n\u001b[1;32m      1\u001b[0m \u001b[0mx\u001b[0m \u001b[0;34m=\u001b[0m \u001b[0;34m'10'\u001b[0m\u001b[0;34m\u001b[0m\u001b[0;34m\u001b[0m\u001b[0m\n\u001b[1;32m      2\u001b[0m \u001b[0mint\u001b[0m\u001b[0;34m(\u001b[0m\u001b[0mx\u001b[0m\u001b[0;34m)\u001b[0m\u001b[0;34m\u001b[0m\u001b[0;34m\u001b[0m\u001b[0m\n\u001b[0;32m----> 3\u001b[0;31m \u001b[0mprint\u001b[0m\u001b[0;34m(\u001b[0m\u001b[0mx\u001b[0m\u001b[0;34m+\u001b[0m\u001b[0;36m10\u001b[0m\u001b[0;34m)\u001b[0m\u001b[0;34m\u001b[0m\u001b[0;34m\u001b[0m\u001b[0m\n\u001b[0m",
            "\u001b[0;31mTypeError\u001b[0m: can only concatenate str (not \"int\") to str"
          ]
        }
      ]
    },
    {
      "cell_type": "code",
      "source": [
        "x = '10'\n",
        "x = int(x)\n",
        "print(x+10)"
      ],
      "metadata": {
        "colab": {
          "base_uri": "https://localhost:8080/"
        },
        "id": "2LjQX83fBY-I",
        "outputId": "4167833d-2107-4ddb-cc6d-efa166d42a5f"
      },
      "execution_count": null,
      "outputs": [
        {
          "output_type": "stream",
          "name": "stdout",
          "text": [
            "20\n"
          ]
        }
      ]
    },
    {
      "cell_type": "code",
      "source": [
        "age = input('나이 입력:')\n",
        "age = int(age)\n",
        "print('10년 후 나이는', age+10)"
      ],
      "metadata": {
        "colab": {
          "base_uri": "https://localhost:8080/"
        },
        "id": "v3qI5MdcBbXj",
        "outputId": "2cd3af42-f385-4ca6-816f-6164c5e39f2e"
      },
      "execution_count": null,
      "outputs": [
        {
          "output_type": "stream",
          "name": "stdout",
          "text": [
            "나이 입력:23\n",
            "10년 후 나이는 33\n"
          ]
        }
      ]
    },
    {
      "cell_type": "code",
      "source": [
        "age = int(input('나이 입력:'))\n",
        "print('10년 후 나이는', age+10)"
      ],
      "metadata": {
        "colab": {
          "base_uri": "https://localhost:8080/"
        },
        "id": "Ak-IcOL_BnVT",
        "outputId": "f598a4f9-13d0-49a0-a7c0-862ef698e056"
      },
      "execution_count": null,
      "outputs": [
        {
          "output_type": "stream",
          "name": "stdout",
          "text": [
            "나이 입력:23\n",
            "10년 후 나이는 33\n"
          ]
        }
      ]
    },
    {
      "cell_type": "code",
      "source": [
        "a = int(input('첫 번째 정수를 입력하세요:'))\n",
        "b = int(input('두 번째 정수를 입력하세요:'))\n",
        "print()\n",
        "print(a,'+',b,'의 결과는',a+b,'입니다.')"
      ],
      "metadata": {
        "colab": {
          "base_uri": "https://localhost:8080/"
        },
        "id": "Vb6h5oH-Dt9r",
        "outputId": "89570474-d21a-4298-ffc8-76b50276590e"
      },
      "execution_count": null,
      "outputs": [
        {
          "output_type": "stream",
          "name": "stdout",
          "text": [
            "첫 번째 정수를 입력하세요:100\n",
            "두 번째 정수를 입력하세요:200\n",
            "\n",
            "100 + 200 의 결과는 300 입니다.\n"
          ]
        }
      ]
    },
    {
      "cell_type": "code",
      "source": [
        "#곱하기 * 빼면 실행 안됨\n",
        "print('온도 변환 프로그램')\n",
        "f = float(input('화씨 온도를 입력하세요:'))\n",
        "C = 5/9*(f-32)\n",
        "print('섭씨 온도는',C,'입니다.')\n",
        "print()\n",
        "C = float(input('섭씨 온도를 입력하세요:'))\n",
        "f=9/5*C+32.0\n",
        "print('화씨 온도는',f,'입니다.')"
      ],
      "metadata": {
        "colab": {
          "base_uri": "https://localhost:8080/"
        },
        "id": "kadEMeNaE8ZO",
        "outputId": "05ae814c-d89f-4f20-d2eb-88746eb5cf79"
      },
      "execution_count": null,
      "outputs": [
        {
          "output_type": "stream",
          "name": "stdout",
          "text": [
            "온도 변환 프로그램\n",
            "화씨 온도를 입력하세요:50\n",
            "섭씨 온도는 10.0 입니다.\n",
            "\n",
            "섭씨 온도를 입력하세요:50\n",
            "화씨 온도는 122.0 입니다.\n"
          ]
        }
      ]
    },
    {
      "cell_type": "code",
      "source": [
        "a = input(\"아이디를 입력하시오\")\n",
        "if a == 'ilovepython'  :\n",
        "  print('환영합니다.')\n",
        "else:\n",
        "  print('아이디를 찾을 수 없습니다.')"
      ],
      "metadata": {
        "colab": {
          "base_uri": "https://localhost:8080/"
        },
        "id": "s5klcDkEFFRR",
        "outputId": "1709c4a7-1390-4c7f-a89b-5d4971ba1256"
      },
      "execution_count": null,
      "outputs": [
        {
          "output_type": "stream",
          "name": "stdout",
          "text": [
            "아이디를 입력하시오ilovepython\n",
            "환영합니다.\n"
          ]
        }
      ]
    },
    {
      "cell_type": "code",
      "source": [
        "A = int(input('A정수 입력:'))\n",
        "B = int(input('B정수 입력:'))\n",
        "if A < B :\n",
        "  print('A는 B보다 작다.')\n",
        "elif B < A :\n",
        "  print('B는 A보다 작다.')\n",
        "elif A == B :\n",
        "  print('A와 B는 같다.')"
      ],
      "metadata": {
        "colab": {
          "base_uri": "https://localhost:8080/"
        },
        "id": "tqbLksWjKmXt",
        "outputId": "6d91e9bc-28db-416b-96d8-ac54fa104dde"
      },
      "execution_count": null,
      "outputs": [
        {
          "output_type": "stream",
          "name": "stdout",
          "text": [
            "A정수 입력:25\n",
            "B정수 입력:273\n",
            "A는 B보다 작다.\n"
          ]
        }
      ]
    },
    {
      "cell_type": "code",
      "source": [
        "K = int(input('나이를 입력하세요:'))\n",
        "l = int(input('나이를 입력하세요:'))\n",
        "if  K>=10 :\n",
        "  if l>=130 :\n",
        "    print('놀이기구를 탈 수 있습니다.')\n",
        "  else :\n",
        "    print('놀이기구를 탈 수 없습니다.')\n",
        "else :\n",
        "  print('놀이기구를 탈 수 없습니다.')"
      ],
      "metadata": {
        "colab": {
          "base_uri": "https://localhost:8080/"
        },
        "id": "QPOUfXisMIps",
        "outputId": "e10fc6d0-afd8-481f-a6b5-83c901d807d3"
      },
      "execution_count": null,
      "outputs": [
        {
          "output_type": "stream",
          "name": "stdout",
          "text": [
            "나이를 입력하세요:11\n",
            "나이를 입력하세요:120\n",
            "놀이기구를 탈 수 없습니다.\n"
          ]
        }
      ]
    },
    {
      "cell_type": "code",
      "source": [],
      "metadata": {
        "id": "RO8EgsFQOa6z"
      },
      "execution_count": null,
      "outputs": []
    }
  ]
}