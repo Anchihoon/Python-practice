{
  "nbformat": 4,
  "nbformat_minor": 0,
  "metadata": {
    "colab": {
      "provenance": [],
      "authorship_tag": "ABX9TyMt2xt8oOoDlXVobAXSNpew",
      "include_colab_link": true
    },
    "kernelspec": {
      "name": "python3",
      "display_name": "Python 3"
    },
    "language_info": {
      "name": "python"
    }
  },
  "cells": [
    {
      "cell_type": "markdown",
      "metadata": {
        "id": "view-in-github",
        "colab_type": "text"
      },
      "source": [
        "<a href=\"https://colab.research.google.com/github/Anchihoon/Python-practice/blob/main/An%20python%202.ipynb\" target=\"_parent\"><img src=\"https://colab.research.google.com/assets/colab-badge.svg\" alt=\"Open In Colab\"/></a>"
      ]
    },
    {
      "cell_type": "code",
      "execution_count": null,
      "metadata": {
        "colab": {
          "base_uri": "https://localhost:8080/"
        },
        "id": "ma07Jl4nwd0w",
        "outputId": "dd6d52e3-b4b6-4da7-c97a-371b4ebdebef"
      },
      "outputs": [
        {
          "output_type": "stream",
          "name": "stdout",
          "text": [
            "파이썬은 즐거워\n",
            "파이썬은 즐거워\n",
            "파이썬은 즐거워\n",
            "파이썬은 즐거워\n",
            "파이썬은 즐거워\n",
            "count = 5\n"
          ]
        }
      ],
      "source": [
        "count = 0\n",
        "\n",
        "while count < 5 :\n",
        "  print('파이썬은 즐거워')\n",
        "  count = count + 1\n",
        "print('count =',count)  "
      ]
    },
    {
      "cell_type": "code",
      "source": [
        "number = 1\n",
        "total = 0 #합을 구하기 위해 빈변수를 새로 만듦\n",
        "while number <= 10:\n",
        "  total = total + number\n",
        "  number += 1 #number = number +1 과 같은 연산자(복합대입연산자)\n",
        "\n",
        "print('1부터 10까지의 합은',total)"
      ],
      "metadata": {
        "colab": {
          "base_uri": "https://localhost:8080/"
        },
        "id": "WDug9tBPy5Ch",
        "outputId": "0cb0497b-b00e-432c-c6e6-1dfa7933b01f"
      },
      "execution_count": null,
      "outputs": [
        {
          "output_type": "stream",
          "name": "stdout",
          "text": [
            "1부터 10까지의 합은 55\n"
          ]
        }
      ]
    },
    {
      "cell_type": "code",
      "source": [
        "end = int(input('끝 숫자 입력: '))\n",
        "number = 1\n",
        "total = 0 #합을 구하기 위해 빈변수를 새로 만듦\n",
        "while number <= end:\n",
        "  total = total + number\n",
        "  number += 1 #number = number +1 과 같은 연산자(복합대입연산자)\n",
        "\n",
        "print('1부터' , end, '까지의 합은',total)"
      ],
      "metadata": {
        "colab": {
          "base_uri": "https://localhost:8080/"
        },
        "id": "RLZ8C_wm2Hs9",
        "outputId": "73ef5eeb-aac3-4b35-abbb-53d28170868d"
      },
      "execution_count": null,
      "outputs": [
        {
          "output_type": "stream",
          "name": "stdout",
          "text": [
            "끝 숫자 입력: 10\n",
            "1부터 10 까지의 합은 55\n"
          ]
        }
      ]
    },
    {
      "cell_type": "code",
      "source": [
        "start = int(input('시작 숫자 입력: '))\n",
        "end = int(input('끝 숫자 입력: '))\n",
        "number = start\n",
        "total = 0 #합을 구하기 위해 빈변수를 새로 만듦\n",
        "while number <= end:\n",
        "  total = total + number\n",
        "  number += 1 #number = number +1 과 같은 연산자(복합대입연산자)\n",
        "\n",
        "print(str(start)+'부터' , str(end) + '까지의 합은:', total) #띄어쓰기 없앨려고 str 사용"
      ],
      "metadata": {
        "colab": {
          "base_uri": "https://localhost:8080/"
        },
        "id": "vWvUyT6S4uwA",
        "outputId": "d1e07a55-1983-475f-b602-b28df6979524"
      },
      "execution_count": null,
      "outputs": [
        {
          "output_type": "stream",
          "name": "stdout",
          "text": [
            "시작 숫자 입력: 1\n",
            "끝 숫자 입력: 30\n",
            "1부터 30까지의 합은: 465\n"
          ]
        }
      ]
    },
    {
      "cell_type": "code",
      "source": [
        "drinks = ['콜라','사이다','환타']\n",
        "coin = int(input(\"동전을 넣으세요:\"))\n",
        "\n",
        "while coin >= 500:\n",
        "  print(\"\\n현재 금액:\", coin,\"원\")\n",
        "  sel = int(input(\"콜라(0), 사이다(1), 환타(2): \"))\n",
        "  print(str(drinks[sel])+\"가 나왔습니다.\")\n",
        "  coin -= 500 #coin = coin - 500과 같은 연산자\n",
        "\n",
        "print(\"거스름돈:\", coin, \"원\")\n"
      ],
      "metadata": {
        "colab": {
          "base_uri": "https://localhost:8080/"
        },
        "id": "7XMSA8345UPj",
        "outputId": "165db939-b8cf-4d93-9109-5c548e2a789d"
      },
      "execution_count": null,
      "outputs": [
        {
          "output_type": "stream",
          "name": "stdout",
          "text": [
            "동전을 넣으세요:700\n",
            "\n",
            "현재 금액: 700 원\n",
            "콜라(0), 사이다(1), 환타(2): 2\n",
            "환타가 나왔습니다.\n",
            "거스름돈: 200 원\n"
          ]
        }
      ]
    },
    {
      "cell_type": "code",
      "source": [
        "goods = ['커피', '우유', '바나나', '감귤', '화장지', '장갑', '이불', '베개', '장난감', '음료수', '빵']\n",
        "print('상품재고관리 프로그램')\n",
        "print()\n",
        "print('=' *110)\n",
        "print(goods)\n",
        "print('=' *110)\n",
        "\n",
        "a = input('상품관리-삽입) 삽입하고자 하는 상품은?')\n",
        "b = int(input('상품관리-삽입) 삽입하고자 하는 위치는?'))\n",
        "goods.insert(b,a)\n",
        "print(a,'삽입 완료')\n",
        "print('=' *110)\n",
        "print(goods)\n",
        "print('=' *110) "
      ],
      "metadata": {
        "colab": {
          "base_uri": "https://localhost:8080/"
        },
        "id": "9wuHXu165mI5",
        "outputId": "1b3f8488-36ab-44e7-9bb9-244d5ed50649"
      },
      "execution_count": null,
      "outputs": [
        {
          "output_type": "stream",
          "name": "stdout",
          "text": [
            "상품재고관리 프로그램\n",
            "\n",
            "==============================================================================================================\n",
            "['커피', '우유', '바나나', '감귤', '화장지', '장갑', '이불', '베개', '장난감', '음료수', '빵']\n",
            "==============================================================================================================\n",
            "상품관리-삽입) 삽입하고자 하는 상품은?배\n",
            "상품관리-삽입) 삽입하고자 하는 위치는?4\n",
            "배 삽입 완료\n",
            "==============================================================================================================\n",
            "['커피', '우유', '바나나', '배', '감귤', '화장지', '장갑', '이불', '베개', '장난감', '음료수', '빵']\n",
            "==============================================================================================================\n"
          ]
        }
      ]
    },
    {
      "cell_type": "code",
      "source": [
        "goods = ['커피', '우유', '바나나', '감귤', '화장지', '장갑', '이불', '베개', '장난감', '음료수', '빵']\n",
        "print('상품재고관리 프로그램')\n",
        "print()\n",
        "print('=' *110)\n",
        "print(goods)\n",
        "print('=' *110)\n",
        "\n",
        "a = input('상품관리-삭제) 삭제하고자 하는 상품은?')\n",
        "if a in goods : #a가 goods 안에 있냐 라는 뜻, remove랑 같이 자주쓰임\n",
        "   goods.remove(a) #잘못입력하면 오류가나기때문에 혼자 사용하지않음 그래서 if문 사용 \n",
        "   print(a,'삭제 완료')\n",
        "else :\n",
        "   print(a+ '상품이 없습니다')\n",
        "print('=' *110)\n",
        "print(goods)\n",
        "print('=' *110) "
      ],
      "metadata": {
        "colab": {
          "base_uri": "https://localhost:8080/"
        },
        "id": "P3ahGDlQCM7Z",
        "outputId": "9e994cfd-b1be-4926-996f-b2cc38b59ada"
      },
      "execution_count": null,
      "outputs": [
        {
          "output_type": "stream",
          "name": "stdout",
          "text": [
            "상품재고관리 프로그램\n",
            "\n",
            "==============================================================================================================\n",
            "['커피', '우유', '바나나', '감귤', '화장지', '장갑', '이불', '베개', '장난감', '음료수', '빵']\n",
            "==============================================================================================================\n",
            "상품관리-삭제) 삭제하고자 하는 상품은?장난감\n",
            "장난감 삭제 완료\n",
            "==============================================================================================================\n",
            "['커피', '우유', '바나나', '감귤', '화장지', '장갑', '이불', '베개', '음료수', '빵']\n",
            "==============================================================================================================\n"
          ]
        }
      ]
    },
    {
      "cell_type": "code",
      "source": [
        "list = ['02-334-0000', '서울시', '노원구', '행복동', '가즈아로', '낙엽', '패딩점퍼']\n",
        "print(list[1:5])\n",
        "print(list[-6:-2])\n",
        "print(list[1:-2])\n",
        "print(list[-1:-4:-1])"
      ],
      "metadata": {
        "colab": {
          "base_uri": "https://localhost:8080/"
        },
        "id": "EiN99QkuDk1e",
        "outputId": "50fb7ac3-49e5-46b8-9252-3d43b2e061b1"
      },
      "execution_count": null,
      "outputs": [
        {
          "output_type": "stream",
          "name": "stdout",
          "text": [
            "['서울시', '노원구', '행복동', '가즈아로']\n",
            "['서울시', '노원구', '행복동', '가즈아로']\n",
            "['서울시', '노원구', '행복동', '가즈아로']\n",
            "['패딩점퍼', '낙엽', '가즈아로']\n"
          ]
        }
      ]
    },
    {
      "cell_type": "code",
      "source": [
        "n = input('학생들의 이름 입력(,로 구분):')\n",
        "m = input('학생들의 국어성적 입력(,로 구분):')\n",
        "\n",
        "names = n.split(',') #,로 구분해서 리스트가 생길수있게 함\n",
        "scores = m.split(',')#,로 구분해서 리스트가 생길수있게 함\n",
        "\n",
        "sum = 0\n",
        "i = 0 #인덱스 번호 때문에 사용\n",
        "while i < len(names) :#네임즈에있는 아이템의 갯수가 몇개인지 알려주는 함수\n",
        "  sum = sum + int(scores[i]) #문자열을 숫자열로 받기위해 int사용\n",
        "  i = i + 1\n",
        "print('Sum:',sum)\n",
        "                "
      ],
      "metadata": {
        "colab": {
          "base_uri": "https://localhost:8080/"
        },
        "id": "90b4CuzfI3y2",
        "outputId": "5335cc75-5245-4190-e12a-4c9c0c5157a7"
      },
      "execution_count": null,
      "outputs": [
        {
          "output_type": "stream",
          "name": "stdout",
          "text": [
            "학생들의 이름 입력(,로 구분):영희, 철수, 미나\n",
            "학생들의 국어성적 입력(,로 구분):23, 53, 64\n",
            "Sum: 140\n"
          ]
        }
      ]
    },
    {
      "cell_type": "code",
      "source": [],
      "metadata": {
        "id": "wcj0ospMLDZz"
      },
      "execution_count": null,
      "outputs": []
    }
  ]
}