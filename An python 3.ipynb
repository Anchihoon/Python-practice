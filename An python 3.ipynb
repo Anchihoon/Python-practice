{
  "nbformat": 4,
  "nbformat_minor": 0,
  "metadata": {
    "colab": {
      "provenance": [],
      "authorship_tag": "ABX9TyPhiYG3+gx527maiTivw3St",
      "include_colab_link": true
    },
    "kernelspec": {
      "name": "python3",
      "display_name": "Python 3"
    },
    "language_info": {
      "name": "python"
    }
  },
  "cells": [
    {
      "cell_type": "markdown",
      "metadata": {
        "id": "view-in-github",
        "colab_type": "text"
      },
      "source": [
        "<a href=\"https://colab.research.google.com/github/Anchihoon/Python-practice/blob/main/An%20python%203.ipynb\" target=\"_parent\"><img src=\"https://colab.research.google.com/assets/colab-badge.svg\" alt=\"Open In Colab\"/></a>"
      ]
    },
    {
      "cell_type": "code",
      "execution_count": null,
      "metadata": {
        "id": "M3H9U9tQmBxi",
        "colab": {
          "base_uri": "https://localhost:8080/"
        },
        "outputId": "655cbe0a-38ef-4505-9d71-4b4792a1d908"
      },
      "outputs": [
        {
          "output_type": "stream",
          "name": "stdout",
          "text": [
            "파이썬은 즐거워!\n",
            "파이썬은 즐거워!\n",
            "파이썬은 즐거워!\n",
            "파이썬은 즐거워!\n",
            "파이썬은 즐거워!\n",
            "\n",
            "반복문배웠다.\n"
          ]
        }
      ],
      "source": [
        "for count in range(5): #콜론을 써야 오류가 안남\n",
        "   print('파이썬은 즐거워!')\n",
        "print('\\n반복문배웠다.')"
      ]
    },
    {
      "cell_type": "code",
      "source": [
        "for count in range(1,6):\n",
        "  print(count,'찍었다.')\n",
        "\n",
        "print('\\n다 찍었다.')"
      ],
      "metadata": {
        "colab": {
          "base_uri": "https://localhost:8080/"
        },
        "id": "whHVZPMv3FEK",
        "outputId": "422dcf6b-a443-4bf3-e01a-866a42b3db56"
      },
      "execution_count": null,
      "outputs": [
        {
          "output_type": "stream",
          "name": "stdout",
          "text": [
            "1 찍었다.\n",
            "2 찍었다.\n",
            "3 찍었다.\n",
            "4 찍었다.\n",
            "5 찍었다.\n",
            "\n",
            "다 찍었다.\n"
          ]
        }
      ]
    },
    {
      "cell_type": "code",
      "source": [
        "for count in range(1,6,1):\n",
        "  print('동전을 ',count,'00','원 모았습니다.', ' 땡그랑!'*count,sep='') #count*100을 하는식으로 해도됨\n",
        "print('\\n티끌모아 태산!')"
      ],
      "metadata": {
        "colab": {
          "base_uri": "https://localhost:8080/"
        },
        "id": "Kbzp8PeT4Jtw",
        "outputId": "d7d15256-7860-4618-f8fb-31b83d694b5c"
      },
      "execution_count": null,
      "outputs": [
        {
          "output_type": "stream",
          "name": "stdout",
          "text": [
            "동전을 100원 모았습니다. 땡그랑!\n",
            "동전을 200원 모았습니다. 땡그랑! 땡그랑!\n",
            "동전을 300원 모았습니다. 땡그랑! 땡그랑! 땡그랑!\n",
            "동전을 400원 모았습니다. 땡그랑! 땡그랑! 땡그랑! 땡그랑!\n",
            "동전을 500원 모았습니다. 땡그랑! 땡그랑! 땡그랑! 땡그랑! 땡그랑!\n",
            "\n",
            "티끌모아 태산!\n"
          ]
        }
      ]
    },
    {
      "cell_type": "code",
      "source": [
        "area = ['노원구','관악구','성동구']\n",
        "for thing in area:\n",
        "  print(thing+'에 살아요.')"
      ],
      "metadata": {
        "colab": {
          "base_uri": "https://localhost:8080/"
        },
        "id": "-uqv97Cb5a_f",
        "outputId": "ca49bd54-68f5-4056-e92c-d003bf13dad6"
      },
      "execution_count": null,
      "outputs": [
        {
          "output_type": "stream",
          "name": "stdout",
          "text": [
            "노원구에 살아요.\n",
            "관악구에 살아요.\n",
            "성동구에 살아요.\n"
          ]
        }
      ]
    },
    {
      "cell_type": "code",
      "source": [
        "for i in range(2,10):\n",
        "  print(i,'단',sep='')\n",
        "  for j in range(1,10):\n",
        "    print (i,'*',j,'=',i*j)\n",
        "  print ()"
      ],
      "metadata": {
        "colab": {
          "base_uri": "https://localhost:8080/"
        },
        "id": "MApgxIq19dVo",
        "outputId": "3cb66906-8a1b-4064-b30c-8f0712875174"
      },
      "execution_count": null,
      "outputs": [
        {
          "output_type": "stream",
          "name": "stdout",
          "text": [
            "2단\n",
            "2 * 1 = 2\n",
            "2 * 2 = 4\n",
            "2 * 3 = 6\n",
            "2 * 4 = 8\n",
            "2 * 5 = 10\n",
            "2 * 6 = 12\n",
            "2 * 7 = 14\n",
            "2 * 8 = 16\n",
            "2 * 9 = 18\n",
            "\n",
            "3단\n",
            "3 * 1 = 3\n",
            "3 * 2 = 6\n",
            "3 * 3 = 9\n",
            "3 * 4 = 12\n",
            "3 * 5 = 15\n",
            "3 * 6 = 18\n",
            "3 * 7 = 21\n",
            "3 * 8 = 24\n",
            "3 * 9 = 27\n",
            "\n",
            "4단\n",
            "4 * 1 = 4\n",
            "4 * 2 = 8\n",
            "4 * 3 = 12\n",
            "4 * 4 = 16\n",
            "4 * 5 = 20\n",
            "4 * 6 = 24\n",
            "4 * 7 = 28\n",
            "4 * 8 = 32\n",
            "4 * 9 = 36\n",
            "\n",
            "5단\n",
            "5 * 1 = 5\n",
            "5 * 2 = 10\n",
            "5 * 3 = 15\n",
            "5 * 4 = 20\n",
            "5 * 5 = 25\n",
            "5 * 6 = 30\n",
            "5 * 7 = 35\n",
            "5 * 8 = 40\n",
            "5 * 9 = 45\n",
            "\n",
            "6단\n",
            "6 * 1 = 6\n",
            "6 * 2 = 12\n",
            "6 * 3 = 18\n",
            "6 * 4 = 24\n",
            "6 * 5 = 30\n",
            "6 * 6 = 36\n",
            "6 * 7 = 42\n",
            "6 * 8 = 48\n",
            "6 * 9 = 54\n",
            "\n",
            "7단\n",
            "7 * 1 = 7\n",
            "7 * 2 = 14\n",
            "7 * 3 = 21\n",
            "7 * 4 = 28\n",
            "7 * 5 = 35\n",
            "7 * 6 = 42\n",
            "7 * 7 = 49\n",
            "7 * 8 = 56\n",
            "7 * 9 = 63\n",
            "\n",
            "8단\n",
            "8 * 1 = 8\n",
            "8 * 2 = 16\n",
            "8 * 3 = 24\n",
            "8 * 4 = 32\n",
            "8 * 5 = 40\n",
            "8 * 6 = 48\n",
            "8 * 7 = 56\n",
            "8 * 8 = 64\n",
            "8 * 9 = 72\n",
            "\n",
            "9단\n",
            "9 * 1 = 9\n",
            "9 * 2 = 18\n",
            "9 * 3 = 27\n",
            "9 * 4 = 36\n",
            "9 * 5 = 45\n",
            "9 * 6 = 54\n",
            "9 * 7 = 63\n",
            "9 * 8 = 72\n",
            "9 * 9 = 81\n",
            "\n"
          ]
        }
      ]
    },
    {
      "cell_type": "code",
      "source": [
        "number=['하나','둘','셋']\n",
        "for i in range(3):\n",
        "  print(number[i])\n",
        "  for j in range(0, i+1):\n",
        "    print('*',end='')\n",
        "  print('\\n')"
      ],
      "metadata": {
        "colab": {
          "base_uri": "https://localhost:8080/"
        },
        "id": "YkM6xnm7-Dsz",
        "outputId": "89985c13-3a8a-4a86-ae32-9c795e69d119"
      },
      "execution_count": null,
      "outputs": [
        {
          "output_type": "stream",
          "name": "stdout",
          "text": [
            "하나\n",
            "*\n",
            "\n",
            "둘\n",
            "**\n",
            "\n",
            "셋\n",
            "***\n",
            "\n"
          ]
        }
      ]
    },
    {
      "cell_type": "code",
      "source": [
        "#5주차 과제방 보고서에 6조, 조원 누구인지(학번 이름), 프로젝트 주제(파이썬을 이용해서 어떤걸 해보겠다.),파이썬을 이용한 빅데이터 처리의 시각화에 관한 아무거나 다음주에 보여주실예정\n",
        "x=[i**2 for i in range(1,11)]\n",
        "print(x)\n",
        "y=[j/10 for j in range (1,9)]\n",
        "print(y)"
      ],
      "metadata": {
        "colab": {
          "base_uri": "https://localhost:8080/"
        },
        "id": "w9sE2ziX_2LD",
        "outputId": "d3fc36ba-54b6-4f25-dd18-b00692ea495a"
      },
      "execution_count": null,
      "outputs": [
        {
          "output_type": "stream",
          "name": "stdout",
          "text": [
            "[1, 4, 9, 16, 25, 36, 49, 64, 81, 100]\n",
            "[0.1, 0.2, 0.3, 0.4, 0.5, 0.6, 0.7, 0.8]\n"
          ]
        }
      ]
    },
    {
      "cell_type": "code",
      "source": [
        "#모듈은 작성된 프로그램 1개, 모듈이 여러개 모이면 패키지, import 모듈명 으로하면 해당 모듈을 포합시킴\n",
        "import random\n",
        "random.randint(1,100) #random이라는 모듈에는 randint 함수가있는데 이를 쓰기 위해선 어디 소속인지를 써줘야됨\n",
        "#from 모듈명 import * 여기서 *(asterisk)은 random에 있는 모든걸 가져온다는 소리임"
      ],
      "metadata": {
        "colab": {
          "base_uri": "https://localhost:8080/"
        },
        "id": "zTnAOZRgC5Ru",
        "outputId": "5e4f0e07-c41c-4d65-a332-cb34ccd6017b"
      },
      "execution_count": null,
      "outputs": [
        {
          "output_type": "execute_result",
          "data": {
            "text/plain": [
              "1449"
            ]
          },
          "metadata": {},
          "execution_count": 46
        }
      ]
    },
    {
      "cell_type": "code",
      "source": [
        "from random import randint\n",
        "randint(1,20)"
      ],
      "metadata": {
        "colab": {
          "base_uri": "https://localhost:8080/"
        },
        "id": "rPRqgjKzD-3L",
        "outputId": "1b6d8dfb-1c6d-4fb0-908c-bb1e43b03cd1"
      },
      "execution_count": null,
      "outputs": [
        {
          "output_type": "execute_result",
          "data": {
            "text/plain": [
              "20"
            ]
          },
          "metadata": {},
          "execution_count": 49
        }
      ]
    },
    {
      "cell_type": "code",
      "source": [
        "#인터넷 공동데이터를 찾아서 데이터 양이 많은걸로 데이터 분석을 하는게 좋을거같음\n",
        "def login(pwd):\n",
        "  if pwd == 'pythonisfun':\n",
        "    return True\n",
        "  else:\n",
        "    return False\n",
        "\n",
        "password = ''\n",
        "while login(password) == False:\n",
        "  password = input('암호를 입력하세요.')  \n",
        "     \n",
        "print('로그인 성공')\n"
      ],
      "metadata": {
        "colab": {
          "base_uri": "https://localhost:8080/"
        },
        "id": "YDXrj8pQFPhm",
        "outputId": "1ef48049-80ad-49b0-f2f7-7aca24afb7f8"
      },
      "execution_count": null,
      "outputs": [
        {
          "output_type": "stream",
          "name": "stdout",
          "text": [
            "암호를 입력하세요.안녕\n",
            "암호를 입력하세요.ㄴㅁㄹㄴㅇㄹ\n",
            "암호를 입력하세요.pythonisfun\n",
            "로그인 성공\n"
          ]
        }
      ]
    },
    {
      "cell_type": "code",
      "source": [
        "def summation (x): #오류가 난듯 다시 해야될듯\n",
        "  start =1\n",
        "  total = 0\n",
        "  while  start <= x:\n",
        "    total = total + start\n",
        "    start =+ 1\n",
        "  print('1~', x, '까지 합:', total)\n",
        "\n",
        "number = int(input('어디까지 합을 구할까요?'))\n",
        "summation(number)"
      ],
      "metadata": {
        "id": "cH2eZnkoGMeB"
      },
      "execution_count": null,
      "outputs": []
    },
    {
      "cell_type": "code",
      "source": [],
      "metadata": {
        "id": "rFP2z1jVQmqM"
      },
      "execution_count": null,
      "outputs": []
    }
  ]
}