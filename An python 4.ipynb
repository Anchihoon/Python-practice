{
  "nbformat": 4,
  "nbformat_minor": 0,
  "metadata": {
    "colab": {
      "provenance": [],
      "authorship_tag": "ABX9TyPF8EFg7YDy5W+OcSVVbtv1",
      "include_colab_link": true
    },
    "kernelspec": {
      "name": "python3",
      "display_name": "Python 3"
    },
    "language_info": {
      "name": "python"
    }
  },
  "cells": [
    {
      "cell_type": "markdown",
      "metadata": {
        "id": "view-in-github",
        "colab_type": "text"
      },
      "source": [
        "<a href=\"https://colab.research.google.com/github/Anchihoon/Python-practice/blob/main/An%20python%204.ipynb\" target=\"_parent\"><img src=\"https://colab.research.google.com/assets/colab-badge.svg\" alt=\"Open In Colab\"/></a>"
      ]
    },
    {
      "cell_type": "code",
      "execution_count": null,
      "metadata": {
        "colab": {
          "base_uri": "https://localhost:8080/"
        },
        "id": "QWDlJcOOxK7_",
        "outputId": "6235e55f-4477-45b2-d9b7-4ffe160b565d"
      },
      "outputs": [
        {
          "output_type": "stream",
          "name": "stdout",
          "text": [
            "이름: 안치훈\n",
            "나이: 23\n"
          ]
        }
      ],
      "source": [
        "def who_are_you(name,age): #새로운 함수 정의\n",
        "  print('이름:',name)\n",
        "  print('나이:',age)       #매개변수값 출력\n",
        " \n",
        "who_are_you('안치훈',23)"
      ]
    },
    {
      "cell_type": "code",
      "source": [
        "def who_are_you(name,age):\n",
        "  print('이름:',name)\n",
        "  print('나이:',age)\n",
        "\n",
        "who_are_you(name='안치훈',age=23)"
      ],
      "metadata": {
        "colab": {
          "base_uri": "https://localhost:8080/"
        },
        "id": "dX-CHyfPzhV-",
        "outputId": "5c90dfcb-760f-49b9-9d7b-1fc111a2edb4"
      },
      "execution_count": null,
      "outputs": [
        {
          "output_type": "stream",
          "name": "stdout",
          "text": [
            "이름: 안치훈\n",
            "나이: 23\n"
          ]
        }
      ]
    },
    {
      "cell_type": "code",
      "source": [
        "def who_are_you(name,age=31):\n",
        "  print('이름:',name)\n",
        "  print('나이:',age)\n",
        "\n",
        "who_are_you('안치훈')\n",
        "print()\n",
        "who_are_you('안치훈',21)"
      ],
      "metadata": {
        "colab": {
          "base_uri": "https://localhost:8080/"
        },
        "id": "NYiXqFza5ktI",
        "outputId": "849104ee-d9d2-4308-feb6-3fc8a6bd3c5d"
      },
      "execution_count": null,
      "outputs": [
        {
          "output_type": "stream",
          "name": "stdout",
          "text": [
            "이름: 안치훈\n",
            "나이: 31\n",
            "\n",
            "이름: 안치훈\n",
            "나이: 21\n"
          ]
        }
      ]
    },
    {
      "cell_type": "code",
      "source": [
        "def calc (x,y,z):\n",
        "  return x+y+z\n",
        "\n",
        "print(calc(1,y=2,z=4)) #keyword argument 값이 앞에 있으므로 정상출력"
      ],
      "metadata": {
        "colab": {
          "base_uri": "https://localhost:8080/"
        },
        "id": "OmT3gKb7558I",
        "outputId": "9ebd93cb-c869-4cb3-8290-65ae669ea2f9"
      },
      "execution_count": null,
      "outputs": [
        {
          "output_type": "stream",
          "name": "stdout",
          "text": [
            "7\n"
          ]
        }
      ]
    },
    {
      "cell_type": "code",
      "source": [
        "def calc (x,y,z):\n",
        "  return x+y+z\n",
        "\n",
        "print(calc(x=1,y=2,4)) #keyword argument 값이 뒤에 나오지 않으면 오류가 발생한다."
      ],
      "metadata": {
        "colab": {
          "base_uri": "https://localhost:8080/",
          "height": 137
        },
        "id": "bzuDI57I7E35",
        "outputId": "81a5961e-b4ca-4161-ae07-f412d803b2fc"
      },
      "execution_count": null,
      "outputs": [
        {
          "output_type": "error",
          "ename": "SyntaxError",
          "evalue": "ignored",
          "traceback": [
            "\u001b[0;36m  File \u001b[0;32m\"<ipython-input-38-2fd38a01b193>\"\u001b[0;36m, line \u001b[0;32m4\u001b[0m\n\u001b[0;31m    print(calc(x=1,y=2,4)) #keyword argument 값이 뒤에 나오지 않으면 오류가 발생한다.\u001b[0m\n\u001b[0m                        ^\u001b[0m\n\u001b[0;31mSyntaxError\u001b[0m\u001b[0;31m:\u001b[0m positional argument follows keyword argument\n"
          ]
        }
      ]
    },
    {
      "cell_type": "code",
      "source": [
        "def sum_all(a,b,c,d):\n",
        "  result=0\n",
        "  for i in [a,b,c,d]:\n",
        "    result += i\n",
        "  return result\n",
        "\n",
        "sum_all(1,2,3,4)"
      ],
      "metadata": {
        "colab": {
          "base_uri": "https://localhost:8080/"
        },
        "id": "xyv2GQeN7SRp",
        "outputId": "4804eeb9-be15-41de-a685-8c62ade06028"
      },
      "execution_count": null,
      "outputs": [
        {
          "output_type": "execute_result",
          "data": {
            "text/plain": [
              "10"
            ]
          },
          "metadata": {},
          "execution_count": 42
        }
      ]
    },
    {
      "cell_type": "code",
      "source": [
        "def sum_all(*args):\n",
        "  result=0\n",
        "  for i in args:\n",
        "    result += i\n",
        "  return result\n",
        "\n",
        "print(sum_all(1,2,3,4,5,6,7,8,9,10,11))\n",
        "\n",
        "lst = [1,2,3,4,5,6]\n",
        "print(sum_all(*lst))"
      ],
      "metadata": {
        "colab": {
          "base_uri": "https://localhost:8080/"
        },
        "id": "eQRkWaKP7kpc",
        "outputId": "be6636a4-97d6-4dd8-9e53-970771b0d53c"
      },
      "execution_count": null,
      "outputs": [
        {
          "output_type": "stream",
          "name": "stdout",
          "text": [
            "66\n",
            "21\n"
          ]
        }
      ]
    },
    {
      "cell_type": "code",
      "source": [
        "def test_dic(**kwargs):\n",
        "  print(kwargs)\n",
        "  print(type(kwargs))\n",
        "\n",
        "test_dic(one=1,two=2,three=3,four=4,five=5)"
      ],
      "metadata": {
        "colab": {
          "base_uri": "https://localhost:8080/"
        },
        "id": "LsZ66IV78LNZ",
        "outputId": "0fe01172-5394-47fd-94db-103048ae9569"
      },
      "execution_count": null,
      "outputs": [
        {
          "output_type": "stream",
          "name": "stdout",
          "text": [
            "{'one': 1, 'two': 2, 'three': 3, 'four': 4, 'five': 5}\n",
            "<class 'dict'>\n"
          ]
        }
      ]
    },
    {
      "cell_type": "code",
      "source": [
        "example = 'www.naver.co.kr'"
      ],
      "metadata": {
        "id": "ZV6pSz_Y9GdP"
      },
      "execution_count": null,
      "outputs": []
    },
    {
      "cell_type": "code",
      "source": [
        "subdomain,domain,itld,cctld = example.split('.')"
      ],
      "metadata": {
        "id": "ehNGz-Rm9rUA"
      },
      "execution_count": null,
      "outputs": []
    },
    {
      "cell_type": "code",
      "source": [
        "print(subdomain)\n",
        "print(domain)\n",
        "print(itld)\n",
        "print(cctld)"
      ],
      "metadata": {
        "colab": {
          "base_uri": "https://localhost:8080/"
        },
        "id": "cxILNPAM94TT",
        "outputId": "f9290478-e290-4195-a12b-a50104402703"
      },
      "execution_count": null,
      "outputs": [
        {
          "output_type": "stream",
          "name": "stdout",
          "text": [
            "www\n",
            "naver\n",
            "co\n",
            "kr\n"
          ]
        }
      ]
    },
    {
      "cell_type": "code",
      "source": [
        "from os import close\n",
        "color = ['blue','red','yellow','green']\n",
        "a= ''.join(color)\n",
        "b= ' '.join(color)\n",
        "c= ','.join(color)\n",
        "print(a)\n",
        "print(b)\n",
        "print(c)"
      ],
      "metadata": {
        "colab": {
          "base_uri": "https://localhost:8080/"
        },
        "id": "C1Oxa7eI-K-6",
        "outputId": "956e29ab-f934-41b4-da21-47ab69407184"
      },
      "execution_count": null,
      "outputs": [
        {
          "output_type": "stream",
          "name": "stdout",
          "text": [
            "blueredyellowgreen\n",
            "blue red yellow green\n",
            "blue,red,yellow,green\n"
          ]
        }
      ]
    },
    {
      "cell_type": "code",
      "source": [
        "list(map(lambda x:x**2,[1,2,3,4,5,6]))"
      ],
      "metadata": {
        "colab": {
          "base_uri": "https://localhost:8080/"
        },
        "id": "CSRT34N9-xOl",
        "outputId": "c1a99738-fcc4-4d05-a6dd-90fa9fab1fe9"
      },
      "execution_count": null,
      "outputs": [
        {
          "output_type": "execute_result",
          "data": {
            "text/plain": [
              "[1, 4, 9, 16, 25, 36]"
            ]
          },
          "metadata": {},
          "execution_count": 66
        }
      ]
    },
    {
      "cell_type": "code",
      "source": [
        "list(filter(lambda x:x<5 , range(10)))"
      ],
      "metadata": {
        "colab": {
          "base_uri": "https://localhost:8080/"
        },
        "id": "rYK-_2cdAOxu",
        "outputId": "306fd58f-3cad-4332-c6a1-4f2e7b0cec6e"
      },
      "execution_count": null,
      "outputs": [
        {
          "output_type": "execute_result",
          "data": {
            "text/plain": [
              "[0, 1, 2, 3, 4]"
            ]
          },
          "metadata": {},
          "execution_count": 70
        }
      ]
    },
    {
      "cell_type": "code",
      "source": [
        "list(filter(lambda x:x>5 , range(10)))"
      ],
      "metadata": {
        "colab": {
          "base_uri": "https://localhost:8080/"
        },
        "id": "YfP85XiDD1_2",
        "outputId": "027b30b7-8392-4620-cc7b-7628203ee510"
      },
      "execution_count": null,
      "outputs": [
        {
          "output_type": "execute_result",
          "data": {
            "text/plain": [
              "[6, 7, 8, 9]"
            ]
          },
          "metadata": {},
          "execution_count": 71
        }
      ]
    },
    {
      "cell_type": "code",
      "source": [
        "from functools import *\n",
        "reduce(lambda x,y : x+y,[0,1,2,3,4])"
      ],
      "metadata": {
        "colab": {
          "base_uri": "https://localhost:8080/"
        },
        "id": "FYX-2D0XD8lN",
        "outputId": "61b963fb-5b03-4bf5-faaa-3bf392a41d9b"
      },
      "execution_count": null,
      "outputs": [
        {
          "output_type": "execute_result",
          "data": {
            "text/plain": [
              "10"
            ]
          },
          "metadata": {},
          "execution_count": 84
        }
      ]
    },
    {
      "cell_type": "code",
      "source": [
        "for i,v in enumerate(['zero','one','two']):\n",
        "  print(i,v)"
      ],
      "metadata": {
        "colab": {
          "base_uri": "https://localhost:8080/"
        },
        "id": "HOssNZUsEupf",
        "outputId": "eb3bd60f-b75e-4f86-db55-d652f9012e55"
      },
      "execution_count": null,
      "outputs": [
        {
          "output_type": "stream",
          "name": "stdout",
          "text": [
            "0 zero\n",
            "1 one\n",
            "2 two\n"
          ]
        }
      ]
    },
    {
      "cell_type": "code",
      "source": [
        "mylst = ['a','b','c','d']\n",
        "list(enumerate(mylst))"
      ],
      "metadata": {
        "colab": {
          "base_uri": "https://localhost:8080/"
        },
        "id": "2H80kladFbaU",
        "outputId": "07441b4b-11b3-4737-c37d-729544b4587f"
      },
      "execution_count": null,
      "outputs": [
        {
          "output_type": "execute_result",
          "data": {
            "text/plain": [
              "[(0, 'a'), (1, 'b'), (2, 'c'), (3, 'd')]"
            ]
          },
          "metadata": {},
          "execution_count": 83
        }
      ]
    },
    {
      "cell_type": "code",
      "source": [
        "alst=['a1','a2','a3']\n",
        "blst=['b1','b2','b3']\n",
        "\n",
        "for a,b in zip(alst,blst):\n",
        "  print(a,b)"
      ],
      "metadata": {
        "colab": {
          "base_uri": "https://localhost:8080/"
        },
        "id": "SybMfdR3FjI5",
        "outputId": "bbb89a8e-7e85-4c26-d6fe-0e928b258655"
      },
      "execution_count": null,
      "outputs": [
        {
          "output_type": "stream",
          "name": "stdout",
          "text": [
            "a1 b1\n",
            "a2 b2\n",
            "a3 b3\n"
          ]
        }
      ]
    },
    {
      "cell_type": "code",
      "source": [
        "{i:j for i, j in enumerate(['zero','one','two'])}"
      ],
      "metadata": {
        "colab": {
          "base_uri": "https://localhost:8080/"
        },
        "id": "EuZwHTCwG49t",
        "outputId": "7c8802a2-884b-43da-80ba-10619ee69738"
      },
      "execution_count": null,
      "outputs": [
        {
          "output_type": "execute_result",
          "data": {
            "text/plain": [
              "{0: 'zero', 1: 'one', 2: 'two'}"
            ]
          },
          "metadata": {},
          "execution_count": 87
        }
      ]
    },
    {
      "cell_type": "code",
      "source": [
        "list(filter(lambda x:x%2==1, range(10)))"
      ],
      "metadata": {
        "colab": {
          "base_uri": "https://localhost:8080/"
        },
        "id": "1KUmuzfqHpeA",
        "outputId": "e2ae5116-af46-4225-de97-518ad31d9193"
      },
      "execution_count": null,
      "outputs": [
        {
          "output_type": "execute_result",
          "data": {
            "text/plain": [
              "[1, 3, 5, 7, 9]"
            ]
          },
          "metadata": {},
          "execution_count": 89
        }
      ]
    },
    {
      "cell_type": "code",
      "source": [
        "list(filter(lambda x:x%2, range(10))) #==1 을 없애도 동일한 출력이 나옴"
      ],
      "metadata": {
        "colab": {
          "base_uri": "https://localhost:8080/"
        },
        "id": "SoDWazRLISHj",
        "outputId": "6ae89093-12c5-4ba8-9723-e3f46703349c"
      },
      "execution_count": null,
      "outputs": [
        {
          "output_type": "execute_result",
          "data": {
            "text/plain": [
              "[1, 3, 5, 7, 9]"
            ]
          },
          "metadata": {},
          "execution_count": 90
        }
      ]
    },
    {
      "cell_type": "code",
      "source": [
        "from functools import reduce\n",
        "reduce(lambda x,y: y+x ,'abcd') #b와 a를 더해 x로, y에 c가 들어와서 x를 cba로, y에 d를 넣어서 x를 dcba로 만든다."
      ],
      "metadata": {
        "colab": {
          "base_uri": "https://localhost:8080/",
          "height": 35
        },
        "id": "zCEp_aa5ImVK",
        "outputId": "447ed4e5-8f00-4414-a656-6cf93bf0ce38"
      },
      "execution_count": null,
      "outputs": [
        {
          "output_type": "execute_result",
          "data": {
            "text/plain": [
              "'dcba'"
            ],
            "application/vnd.google.colaboratory.intrinsic+json": {
              "type": "string"
            }
          },
          "metadata": {},
          "execution_count": 95
        }
      ]
    },
    {
      "cell_type": "code",
      "source": [
        "for k,l in enumerate('A good medicine tastes bitter'.split()):\n",
        "     print(k,l)"
      ],
      "metadata": {
        "colab": {
          "base_uri": "https://localhost:8080/"
        },
        "id": "DjlzxCxPJZOE",
        "outputId": "aa1ff767-b094-4e0a-e9ce-c998fee74421"
      },
      "execution_count": null,
      "outputs": [
        {
          "output_type": "stream",
          "name": "stdout",
          "text": [
            "0 A\n",
            "1 good\n",
            "2 medicine\n",
            "3 tastes\n",
            "4 bitter\n"
          ]
        }
      ]
    },
    {
      "cell_type": "code",
      "source": [
        "x=(1,2,3)\n",
        "y=(10,20,30)\n",
        "z=(100,200,300)\n",
        "\n",
        "a,b,c =zip(x,y,z)\n",
        "print(a,b,c)"
      ],
      "metadata": {
        "colab": {
          "base_uri": "https://localhost:8080/"
        },
        "id": "-MJowpFvKRUI",
        "outputId": "e7479a8d-e911-4687-c83d-b4d24e6cd2af"
      },
      "execution_count": null,
      "outputs": [
        {
          "output_type": "stream",
          "name": "stdout",
          "text": [
            "(1, 10, 100) (2, 20, 200) (3, 30, 300)\n"
          ]
        }
      ]
    },
    {
      "cell_type": "code",
      "source": [
        "gu = ['노원구','관악구','성동구']\n",
        "dong = ['공릉동','사당동','성수동']\n",
        "\n",
        "for i,j in zip(gu,dong):\n",
        "  print (i,j+'에 살아요.')"
      ],
      "metadata": {
        "colab": {
          "base_uri": "https://localhost:8080/"
        },
        "id": "Bs-M_wZNLNHV",
        "outputId": "6fbfe404-5d26-489e-ca0d-fda015d35034"
      },
      "execution_count": null,
      "outputs": [
        {
          "output_type": "stream",
          "name": "stdout",
          "text": [
            "노원구 공릉동에 살아요.\n",
            "관악구 사당동에 살아요.\n",
            "성동구 성수동에 살아요.\n"
          ]
        }
      ]
    },
    {
      "cell_type": "code",
      "source": [
        "[x**3 for x in range(10)]"
      ],
      "metadata": {
        "colab": {
          "base_uri": "https://localhost:8080/"
        },
        "id": "5MrW_0VCL0_k",
        "outputId": "473da46d-ee9f-474a-c826-80ac413168f0"
      },
      "execution_count": null,
      "outputs": [
        {
          "output_type": "execute_result",
          "data": {
            "text/plain": [
              "[0, 1, 8, 27, 64, 125, 216, 343, 512, 729]"
            ]
          },
          "metadata": {},
          "execution_count": 113
        }
      ]
    },
    {
      "cell_type": "code",
      "source": [
        "{i:j for i,j in enumerate('A good medicine tastes bitter'.split())}"
      ],
      "metadata": {
        "colab": {
          "base_uri": "https://localhost:8080/"
        },
        "id": "XtFZaK_ZMEC4",
        "outputId": "20d46fed-bea2-4975-cb13-a8368a44eacb"
      },
      "execution_count": null,
      "outputs": [
        {
          "output_type": "execute_result",
          "data": {
            "text/plain": [
              "{0: 'A', 1: 'good', 2: 'medicine', 3: 'tastes', 4: 'bitter'}"
            ]
          },
          "metadata": {},
          "execution_count": 114
        }
      ]
    },
    {
      "cell_type": "code",
      "source": [
        "class Person : # 클래스의 이름은 대부분 대문자로 시작\n",
        "  pass         # 그냥 아무것도 없이 넘어가라"
      ],
      "metadata": {
        "id": "lj9RQ8dtMZnA"
      },
      "execution_count": null,
      "outputs": []
    },
    {
      "cell_type": "code",
      "source": [
        "p = Person() #Person이라는 클래스에서 p라는 객체를 생성해주는것\n",
        "print(p)"
      ],
      "metadata": {
        "colab": {
          "base_uri": "https://localhost:8080/"
        },
        "id": "ugadVBvqRKTz",
        "outputId": "5fb3b44a-77cb-4efe-c93c-42041901d58c"
      },
      "execution_count": null,
      "outputs": [
        {
          "output_type": "stream",
          "name": "stdout",
          "text": [
            "<__main__.Person object at 0x7f2a48203c70>\n"
          ]
        }
      ]
    },
    {
      "cell_type": "code",
      "source": [
        "class Person :\n",
        "  def hi (self): #클래스 안에 함수를 만들때 self 라는 매개변수를 무조건 넣어야된다.\n",
        "    print('hi~')"
      ],
      "metadata": {
        "id": "nNUIXhxtRQe0"
      },
      "execution_count": null,
      "outputs": []
    },
    {
      "cell_type": "code",
      "source": [
        "p = Person()"
      ],
      "metadata": {
        "id": "Vippi2PyRkGd"
      },
      "execution_count": null,
      "outputs": []
    },
    {
      "cell_type": "code",
      "source": [
        "p.hi() #p라는 객체에서 hi라는 함수를 호출해라"
      ],
      "metadata": {
        "colab": {
          "base_uri": "https://localhost:8080/"
        },
        "id": "E_CCQNRtRvc1",
        "outputId": "6c05d5c1-e483-4316-bc1a-9a37bb72aeb5"
      },
      "execution_count": null,
      "outputs": [
        {
          "output_type": "stream",
          "name": "stdout",
          "text": [
            "hi~\n"
          ]
        }
      ]
    },
    {
      "cell_type": "code",
      "source": [
        "class Counter :\n",
        "\n",
        "  def reset(self):\n",
        "    self.count=0      #객체내의 변수는 self.을 써줘여됨 객체자기자신의 카운터 변수라는 의미\n",
        "\n",
        "  def increment(self):\n",
        "    self.count+=1     #객체내의 카운터를 1증가시켜라\n",
        "\n",
        "  def get(self):\n",
        "    return self.count"
      ],
      "metadata": {
        "id": "gLjis8zwSB5o"
      },
      "execution_count": null,
      "outputs": []
    },
    {
      "cell_type": "code",
      "source": [
        "c=Counter()"
      ],
      "metadata": {
        "id": "lAwOgBneRx8c"
      },
      "execution_count": null,
      "outputs": []
    },
    {
      "cell_type": "code",
      "source": [
        "c.reset()\n",
        "c.increment()\n",
        "c.increment()\n",
        "c.increment()\n",
        "c.increment()\n",
        "print('카운트 값:',c.get())"
      ],
      "metadata": {
        "colab": {
          "base_uri": "https://localhost:8080/"
        },
        "id": "MOA0U76PS9tH",
        "outputId": "821876b4-f2e2-4694-f878-4273a6c0adb4"
      },
      "execution_count": null,
      "outputs": [
        {
          "output_type": "stream",
          "name": "stdout",
          "text": [
            "카운트 값: 3\n"
          ]
        }
      ]
    },
    {
      "cell_type": "code",
      "source": [
        "a = Counter()\n",
        "b = Counter()"
      ],
      "metadata": {
        "id": "ti6WKA_9TGLc"
      },
      "execution_count": null,
      "outputs": []
    },
    {
      "cell_type": "code",
      "source": [
        "a.reset()\n",
        "a.increment()\n",
        "b.reset()"
      ],
      "metadata": {
        "id": "_ZOM5dXzTvWZ"
      },
      "execution_count": null,
      "outputs": []
    },
    {
      "cell_type": "code",
      "source": [
        "print('a 객체 카운트 값:',a.get()) \n",
        "print('b 객체 카운트 값:',b.get()) #서로 별개의 count 변수가 적용되는거임 다른 객체이므로"
      ],
      "metadata": {
        "colab": {
          "base_uri": "https://localhost:8080/"
        },
        "id": "G6wjsbfJT282",
        "outputId": "e004fa49-6b39-4a11-b89e-9afa3014ff8d"
      },
      "execution_count": null,
      "outputs": [
        {
          "output_type": "stream",
          "name": "stdout",
          "text": [
            "a 객체 카운트 값: 1\n",
            "b 객체 카운트 값: 0\n"
          ]
        }
      ]
    },
    {
      "cell_type": "code",
      "source": [],
      "metadata": {
        "id": "DKRkg6GyT_Gq"
      },
      "execution_count": null,
      "outputs": []
    }
  ]
}