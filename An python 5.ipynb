{
  "nbformat": 4,
  "nbformat_minor": 0,
  "metadata": {
    "colab": {
      "provenance": [],
      "authorship_tag": "ABX9TyODOPTo5VtqiTmOoYCapl8p",
      "include_colab_link": true
    },
    "kernelspec": {
      "name": "python3",
      "display_name": "Python 3"
    },
    "language_info": {
      "name": "python"
    }
  },
  "cells": [
    {
      "cell_type": "markdown",
      "metadata": {
        "id": "view-in-github",
        "colab_type": "text"
      },
      "source": [
        "<a href=\"https://colab.research.google.com/github/Anchihoon/Python-practice/blob/main/An%20python%205.ipynb\" target=\"_parent\"><img src=\"https://colab.research.google.com/assets/colab-badge.svg\" alt=\"Open In Colab\"/></a>"
      ]
    },
    {
      "cell_type": "code",
      "execution_count": null,
      "metadata": {
        "id": "ShXQwfvGzpfc"
      },
      "outputs": [],
      "source": [
        "class Counter :\n",
        "  def __init__(self):\n",
        "     self.count = 0\n",
        "  def reset(self):\n",
        "    self.count = 0\n",
        "  def increment(self):\n",
        "    self.count += 1\n",
        "  def get(self):\n",
        "    return self.count"
      ]
    },
    {
      "cell_type": "code",
      "source": [
        "c = Counter()\n",
        "print(c.get()) \n",
        "#def__init__(self):  \n",
        "#self.count = 0 가 없으면 print(c.get())이 오류 발생\n",
        "#이유는 ~~~~~"
      ],
      "metadata": {
        "colab": {
          "base_uri": "https://localhost:8080/"
        },
        "id": "4soRS9IU10--",
        "outputId": "519ba58c-f5fa-4ba9-d9f4-0a398f929a27"
      },
      "execution_count": null,
      "outputs": [
        {
          "output_type": "stream",
          "name": "stdout",
          "text": [
            "0\n"
          ]
        }
      ]
    },
    {
      "cell_type": "code",
      "source": [
        "class Person:\n",
        "  def __init__(self, name):\n",
        "    self.name = name #뒤에있는 name은 함수의 매개변수, 앞에있는 name 객체변수\n",
        "  def hi(self):\n",
        "    print('hi',self.name)"
      ],
      "metadata": {
        "id": "8vTIFoRM6QtJ"
      },
      "execution_count": null,
      "outputs": []
    },
    {
      "cell_type": "code",
      "source": [
        "p = Person('치훈') #Person이라는 클래스에서 객체를 생성할때 self만 있는게 아니므로 매개변수를 하나 더 넣음"
      ],
      "metadata": {
        "id": "q0TEFXNG6era"
      },
      "execution_count": null,
      "outputs": []
    },
    {
      "cell_type": "code",
      "source": [
        "p.hi()"
      ],
      "metadata": {
        "colab": {
          "base_uri": "https://localhost:8080/"
        },
        "id": "PS77yWtu7ODG",
        "outputId": "f07d7ec1-bf5d-4419-da1e-e83cc2ad2acb"
      },
      "execution_count": null,
      "outputs": [
        {
          "output_type": "stream",
          "name": "stdout",
          "text": [
            "hi 치훈\n"
          ]
        }
      ]
    },
    {
      "cell_type": "code",
      "source": [
        "class Robot:\n",
        "  population = 0 #self 키워드 안붙임 즉,클래스 변수\n",
        "\n",
        "  def __init__(self,name):\n",
        "    self.name = name\n",
        "    self.count = 0\n",
        "\n",
        "  def make(self):\n",
        "    print(self.name,'로봇 생성완료!')\n",
        "    self.count += 1       #객체마다 로봇의 개수를 세는것\n",
        "    Robot.population += 1 #class 변수인 population도 1증가시켜줌(전체 로봇의 개수)\n",
        "    \n",
        "  def die(self):\n",
        "    print(self.name, '파괴되었습니다!')\n",
        "    Robot.population -= 1\n",
        "    self.count -= 1\n",
        "    if Robot.population == 0:\n",
        "      print(self.name, '전체로봇중 마지막입니다.')\n",
        "    else:\n",
        "       print('전체 로봇은',Robot.population,'개 남았습니다.')\n",
        "  \n",
        "  def get(self):\n",
        "    return self.count"
      ],
      "metadata": {
        "id": "J6k1zqX-BJwF"
      },
      "execution_count": null,
      "outputs": []
    },
    {
      "cell_type": "code",
      "source": [
        "r1 = Robot('scv')\n",
        "r2 = Robot('marine')\n",
        "r3 = Robot('tank')\n",
        "#3개의 객체를 생성한것"
      ],
      "metadata": {
        "id": "P8l-NYiGDKhq"
      },
      "execution_count": null,
      "outputs": []
    },
    {
      "cell_type": "code",
      "source": [
        "r1.make()"
      ],
      "metadata": {
        "id": "-kZIBhGTD-FF",
        "colab": {
          "base_uri": "https://localhost:8080/"
        },
        "outputId": "b4f6704e-5faf-47d7-de0a-65920f2bd71e"
      },
      "execution_count": null,
      "outputs": [
        {
          "output_type": "stream",
          "name": "stdout",
          "text": [
            "scv 로봇 생성완료!\n"
          ]
        }
      ]
    },
    {
      "cell_type": "code",
      "source": [
        "r1.make()"
      ],
      "metadata": {
        "id": "yu9hpL85EPU9",
        "colab": {
          "base_uri": "https://localhost:8080/"
        },
        "outputId": "8d51d544-1398-4f39-ebc1-218f726080f8"
      },
      "execution_count": null,
      "outputs": [
        {
          "output_type": "stream",
          "name": "stdout",
          "text": [
            "scv 로봇 생성완료!\n"
          ]
        }
      ]
    },
    {
      "cell_type": "code",
      "source": [
        "r1.make()"
      ],
      "metadata": {
        "id": "mUhKQaZ2ER0F"
      },
      "execution_count": null,
      "outputs": []
    },
    {
      "cell_type": "code",
      "source": [
        "r2.make()"
      ],
      "metadata": {
        "id": "edmJllZDESJF"
      },
      "execution_count": null,
      "outputs": []
    },
    {
      "cell_type": "code",
      "source": [
        "r3.make()"
      ],
      "metadata": {
        "id": "xkLO5IvrEUhr"
      },
      "execution_count": null,
      "outputs": []
    },
    {
      "cell_type": "code",
      "source": [
        "r3.make()"
      ],
      "metadata": {
        "id": "CU-ghqiuEW8f"
      },
      "execution_count": null,
      "outputs": []
    },
    {
      "cell_type": "code",
      "source": [
        "r2.die()"
      ],
      "metadata": {
        "colab": {
          "base_uri": "https://localhost:8080/"
        },
        "id": "AFXkao-DEYDR",
        "outputId": "ad8f45d0-4324-4bd2-a7f6-16c2ff9bc629"
      },
      "execution_count": null,
      "outputs": [
        {
          "output_type": "stream",
          "name": "stdout",
          "text": [
            "marine 파괴되었습니다!\n",
            "전체 로봇은 5 개 남았습니다.\n"
          ]
        }
      ]
    },
    {
      "cell_type": "code",
      "source": [
        "print('마린 로봇 개수:',r2.get())"
      ],
      "metadata": {
        "colab": {
          "base_uri": "https://localhost:8080/"
        },
        "id": "7O0iHPUrEiOB",
        "outputId": "d6105fea-50ab-4f4f-93da-f5fa965a2385"
      },
      "execution_count": null,
      "outputs": [
        {
          "output_type": "stream",
          "name": "stdout",
          "text": [
            "마린 로봇 개수: 0\n"
          ]
        }
      ]
    },
    {
      "cell_type": "code",
      "source": [
        "r3.die()"
      ],
      "metadata": {
        "colab": {
          "base_uri": "https://localhost:8080/"
        },
        "id": "AFq-ddLHE5VE",
        "outputId": "bcc9787d-5b36-44f3-b0cd-f9c52182046d"
      },
      "execution_count": null,
      "outputs": [
        {
          "output_type": "stream",
          "name": "stdout",
          "text": [
            "tank 파괴되었습니다!\n",
            "전체 로봇은 4 개 남았습니다.\n"
          ]
        }
      ]
    },
    {
      "cell_type": "code",
      "source": [
        "class Student:\n",
        "  def __init__(self, name=None, age=0):\n",
        "    self.name = name \n",
        "    self.__age = age #private멤버는 __를 붙인다.\n",
        "  def setAge(self,age):\n",
        "    self.__age = age\n",
        "  def getName(self):\n",
        "    return self.name\n",
        "  def getAge(self):\n",
        "    return self.__age"
      ],
      "metadata": {
        "id": "dhWAcTYDE7PK"
      },
      "execution_count": null,
      "outputs": []
    },
    {
      "cell_type": "code",
      "source": [
        "s = Student()"
      ],
      "metadata": {
        "id": "Ve8Oc90IKD6t"
      },
      "execution_count": null,
      "outputs": []
    },
    {
      "cell_type": "code",
      "source": [
        "print(s.name) #name __를 안붙여서 일반적인 객채변수"
      ],
      "metadata": {
        "colab": {
          "base_uri": "https://localhost:8080/"
        },
        "id": "SfCVMl98KPDZ",
        "outputId": "a3c43901-2a0b-4b4c-ae7e-57d06d3c0850"
      },
      "execution_count": null,
      "outputs": [
        {
          "output_type": "stream",
          "name": "stdout",
          "text": [
            "None\n"
          ]
        }
      ]
    },
    {
      "cell_type": "code",
      "source": [
        "print(s.__age) #__를 붙였기때문에 private변수 클래스 밖에서 접근이안됨, 오류 발생"
      ],
      "metadata": {
        "colab": {
          "base_uri": "https://localhost:8080/",
          "height": 174
        },
        "id": "XKDs2esxKVNx",
        "outputId": "bb17d649-3532-41a1-c3b3-8df002db38f6"
      },
      "execution_count": null,
      "outputs": [
        {
          "output_type": "error",
          "ename": "AttributeError",
          "evalue": "ignored",
          "traceback": [
            "\u001b[0;31m---------------------------------------------------------------------------\u001b[0m",
            "\u001b[0;31mAttributeError\u001b[0m                            Traceback (most recent call last)",
            "\u001b[0;32m<ipython-input-8-c57d712f0a2a>\u001b[0m in \u001b[0;36m<cell line: 1>\u001b[0;34m()\u001b[0m\n\u001b[0;32m----> 1\u001b[0;31m \u001b[0mprint\u001b[0m\u001b[0;34m(\u001b[0m\u001b[0ms\u001b[0m\u001b[0;34m.\u001b[0m\u001b[0m__age\u001b[0m\u001b[0;34m)\u001b[0m \u001b[0;31m#__를 붙였기때문에 private변수 클래스 밖에서 접근이안됨, 오류 발생\u001b[0m\u001b[0;34m\u001b[0m\u001b[0;34m\u001b[0m\u001b[0m\n\u001b[0m",
            "\u001b[0;31mAttributeError\u001b[0m: 'Student' object has no attribute '__age'"
          ]
        }
      ]
    },
    {
      "cell_type": "code",
      "source": [
        "print(s.getAge()) #클래스 안에 있는 함수를 통해 접근 하면된다."
      ],
      "metadata": {
        "colab": {
          "base_uri": "https://localhost:8080/"
        },
        "id": "bgfuj_eEKYtT",
        "outputId": "f5cd6d75-5803-4451-aa86-e8dd4e8df4a0"
      },
      "execution_count": null,
      "outputs": [
        {
          "output_type": "stream",
          "name": "stdout",
          "text": [
            "0\n"
          ]
        }
      ]
    },
    {
      "cell_type": "code",
      "source": [
        "s.name = '치훈'"
      ],
      "metadata": {
        "id": "qlpopzemKsUX"
      },
      "execution_count": null,
      "outputs": []
    },
    {
      "cell_type": "code",
      "source": [
        "print(s.name)"
      ],
      "metadata": {
        "colab": {
          "base_uri": "https://localhost:8080/"
        },
        "id": "tnF9qmIcLuNX",
        "outputId": "fcf0d966-dec4-4757-a324-04c5c8de0e98"
      },
      "execution_count": null,
      "outputs": [
        {
          "output_type": "stream",
          "name": "stdout",
          "text": [
            "치훈\n"
          ]
        }
      ]
    },
    {
      "cell_type": "code",
      "source": [
        "s.setAge(23)"
      ],
      "metadata": {
        "id": "LhhO8nm8LwMd"
      },
      "execution_count": null,
      "outputs": []
    },
    {
      "cell_type": "code",
      "source": [
        "print(s.getAge())"
      ],
      "metadata": {
        "colab": {
          "base_uri": "https://localhost:8080/"
        },
        "id": "SM9Z--s6L0Hg",
        "outputId": "c32c0dbd-af66-4dc1-cc2f-9013c8fd22af"
      },
      "execution_count": null,
      "outputs": [
        {
          "output_type": "stream",
          "name": "stdout",
          "text": [
            "23\n"
          ]
        }
      ]
    },
    {
      "cell_type": "code",
      "source": [
        "class Circle:\n",
        "  def __init__(self,radius):\n",
        "    self.__radius = radius\n",
        "  def setRadius(self,r):\n",
        "    self.__radius = r\n",
        "  def getRadius(self):\n",
        "    return self.__radius\n",
        "  def calcArea(self):\n",
        "    return self.__radius**2*3.14\n",
        "  def calcCirum(self):\n",
        "    return 2*3.14*self.__radius"
      ],
      "metadata": {
        "id": "UxGHdBoGL7i7"
      },
      "execution_count": null,
      "outputs": []
    },
    {
      "cell_type": "code",
      "source": [
        "C = Circle(10)"
      ],
      "metadata": {
        "id": "lNh4yvKEOO_M"
      },
      "execution_count": null,
      "outputs": []
    },
    {
      "cell_type": "code",
      "source": [
        "print(C.getRadius())"
      ],
      "metadata": {
        "colab": {
          "base_uri": "https://localhost:8080/"
        },
        "id": "fKNMfcGaOSNe",
        "outputId": "e2ed9d5c-3a2a-4dd7-8dc5-879967df683b"
      },
      "execution_count": null,
      "outputs": [
        {
          "output_type": "stream",
          "name": "stdout",
          "text": [
            "10\n"
          ]
        }
      ]
    },
    {
      "cell_type": "code",
      "source": [
        "print(C.calcArea())"
      ],
      "metadata": {
        "colab": {
          "base_uri": "https://localhost:8080/"
        },
        "id": "IcZ7H8yeOcwr",
        "outputId": "0fabf3a4-edea-4ba5-a3e1-baa2d7323d1c"
      },
      "execution_count": null,
      "outputs": [
        {
          "output_type": "stream",
          "name": "stdout",
          "text": [
            "314.0\n"
          ]
        }
      ]
    },
    {
      "cell_type": "code",
      "source": [
        "print(C.calcCirum())"
      ],
      "metadata": {
        "colab": {
          "base_uri": "https://localhost:8080/"
        },
        "id": "UDwRfA71OhHD",
        "outputId": "85fca521-14e0-47e2-d8fc-6efd41304c06"
      },
      "execution_count": null,
      "outputs": [
        {
          "output_type": "stream",
          "name": "stdout",
          "text": [
            "62.800000000000004\n"
          ]
        }
      ]
    },
    {
      "cell_type": "code",
      "source": [
        "C.setRadius(5)"
      ],
      "metadata": {
        "id": "PMiJTTvXOkje"
      },
      "execution_count": null,
      "outputs": []
    },
    {
      "cell_type": "code",
      "source": [
        "print(C.getRadius())"
      ],
      "metadata": {
        "colab": {
          "base_uri": "https://localhost:8080/"
        },
        "id": "jALKpyjcPe1V",
        "outputId": "63b3e8f2-e496-4c91-98c6-2478710ca594"
      },
      "execution_count": null,
      "outputs": [
        {
          "output_type": "stream",
          "name": "stdout",
          "text": [
            "5\n"
          ]
        }
      ]
    },
    {
      "cell_type": "code",
      "source": [
        "print(C.calcCirum())"
      ],
      "metadata": {
        "colab": {
          "base_uri": "https://localhost:8080/"
        },
        "id": "uWPiraYWPh1y",
        "outputId": "f4ccf414-5574-4de8-9b50-f3bf981d41f1"
      },
      "execution_count": null,
      "outputs": [
        {
          "output_type": "stream",
          "name": "stdout",
          "text": [
            "31.400000000000002\n"
          ]
        }
      ]
    },
    {
      "cell_type": "code",
      "source": [
        "#과제 학번 이름 6주차과제 해당 코랩 내려받아서 과제제출\n",
        "class BankAccount():\n",
        "  def __init__(self,balance=0):\n",
        "    self.__balance = 0\n",
        "  def setBalance(self,balance):\n",
        "    self.__balance = balance\n",
        "  def getBalance(self):\n",
        "    return self.__balance\n",
        "  def deposit(self,balance):\n",
        "    print('통장에',balance,'이 입금되었음.')\n",
        "    self.__balance += balance\n",
        "  def withdraw(self,balance):\n",
        "    if self.__balance - balance < 0:\n",
        "      print('출금하려는 금액이 잔액보다 많아 출금이안됩니다.')\n",
        "      return print('잔액:',self.__balance)  \n",
        "    self.__balance -= balance\n",
        "    print('통장에',balance,'이 출금되었음.')\n",
        "  def bankBalance(self):\n",
        "    return self.__balance"
      ],
      "metadata": {
        "id": "4wpvpKGNPjML"
      },
      "execution_count": null,
      "outputs": []
    },
    {
      "cell_type": "code",
      "source": [
        "b = BankAccount()\n",
        "b.deposit(100)"
      ],
      "metadata": {
        "colab": {
          "base_uri": "https://localhost:8080/"
        },
        "id": "WXPwsZjFTAWf",
        "outputId": "234645b6-c12b-40e7-ea2c-4cb90622a1f2"
      },
      "execution_count": null,
      "outputs": [
        {
          "output_type": "stream",
          "name": "stdout",
          "text": [
            "통장에 100 이 입금되었음.\n"
          ]
        }
      ]
    },
    {
      "cell_type": "code",
      "source": [
        "b.withdraw(120)"
      ],
      "metadata": {
        "colab": {
          "base_uri": "https://localhost:8080/"
        },
        "id": "C1TkgyMyTESw",
        "outputId": "477de5c8-b93a-400a-96ad-01b2dce89654"
      },
      "execution_count": null,
      "outputs": [
        {
          "output_type": "stream",
          "name": "stdout",
          "text": [
            "출금하려는 금액이 잔액보다 많아 출금이안됩니다.\n",
            "잔액: 100\n"
          ]
        }
      ]
    },
    {
      "cell_type": "code",
      "source": [
        "print('잔액:',b.bankBalance())"
      ],
      "metadata": {
        "colab": {
          "base_uri": "https://localhost:8080/"
        },
        "id": "RKUA93ImTw7y",
        "outputId": "9f7263a9-27f3-4ff1-9c33-da0ec8791f1e"
      },
      "execution_count": null,
      "outputs": [
        {
          "output_type": "stream",
          "name": "stdout",
          "text": [
            "잔액: 100\n"
          ]
        }
      ]
    },
    {
      "cell_type": "code",
      "source": [],
      "metadata": {
        "id": "lkafRzzbT7ry"
      },
      "execution_count": null,
      "outputs": []
    }
  ]
}