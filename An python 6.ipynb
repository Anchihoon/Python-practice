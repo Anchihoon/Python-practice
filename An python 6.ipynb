{
  "nbformat": 4,
  "nbformat_minor": 0,
  "metadata": {
    "colab": {
      "provenance": [],
      "authorship_tag": "ABX9TyOgvQK1ci6IumVXhvJ/aU6t",
      "include_colab_link": true
    },
    "kernelspec": {
      "name": "python3",
      "display_name": "Python 3"
    },
    "language_info": {
      "name": "python"
    }
  },
  "cells": [
    {
      "cell_type": "markdown",
      "metadata": {
        "id": "view-in-github",
        "colab_type": "text"
      },
      "source": [
        "<a href=\"https://colab.research.google.com/github/Anchihoon/Python-practice/blob/main/An%20python%206.ipynb\" target=\"_parent\"><img src=\"https://colab.research.google.com/assets/colab-badge.svg\" alt=\"Open In Colab\"/></a>"
      ]
    },
    {
      "cell_type": "code",
      "execution_count": null,
      "metadata": {
        "colab": {
          "base_uri": "https://localhost:8080/"
        },
        "id": "_s8qRin3DjDQ",
        "outputId": "a80b51f7-53d7-4670-b82d-b4ca9c472b5d"
      },
      "outputs": [
        {
          "output_type": "stream",
          "name": "stdout",
          "text": [
            "[0 1 2 3 4 5 6 7 8 9]\n"
          ]
        },
        {
          "output_type": "execute_result",
          "data": {
            "text/plain": [
              "numpy.ndarray"
            ]
          },
          "metadata": {},
          "execution_count": 7
        }
      ],
      "source": [
        "import numpy as np   #Numpy 패키지를 임포트 하는거 일반적으로 np라고 씀\n",
        "ar = np.array(range(10))\n",
        "print(ar)\n",
        "type(ar) #ndarray 타입"
      ]
    },
    {
      "cell_type": "code",
      "source": [
        "ar = np.array ([[1,2,3],[4,5,6],[7,8,9]])\n",
        "print(ar)\n",
        "print(len(ar))\n",
        "print(len(ar[0])) #0번째 행의 열의 개수가 몇개인지 알려줌 인데스 번호를 넣으면 "
      ],
      "metadata": {
        "colab": {
          "base_uri": "https://localhost:8080/"
        },
        "id": "g6LpELgNGwSj",
        "outputId": "4320d10b-ec1c-4adc-dc3b-c50fe50949dc"
      },
      "execution_count": null,
      "outputs": [
        {
          "output_type": "stream",
          "name": "stdout",
          "text": [
            "[[1 2 3]\n",
            " [4 5 6]\n",
            " [7 8 9]]\n",
            "3\n",
            "3\n"
          ]
        }
      ]
    },
    {
      "cell_type": "code",
      "source": [
        "ar = np.array([[[1,2,3],[4,5,6]],[[7,8,9],[10,11,12]]])\n",
        "ar #행,열,깊이까지 있는 3-D array임"
      ],
      "metadata": {
        "colab": {
          "base_uri": "https://localhost:8080/"
        },
        "id": "eI9vQhN3HU1W",
        "outputId": "89b1d04f-fd06-4a0b-bfc4-0e1db899bbfb"
      },
      "execution_count": null,
      "outputs": [
        {
          "output_type": "execute_result",
          "data": {
            "text/plain": [
              "array([[[ 1,  2,  3],\n",
              "        [ 4,  5,  6]],\n",
              "\n",
              "       [[ 7,  8,  9],\n",
              "        [10, 11, 12]]])"
            ]
          },
          "metadata": {},
          "execution_count": 19
        }
      ]
    },
    {
      "cell_type": "code",
      "source": [
        "import numpy as np\n",
        "arrayA = np.zeros((3,6)) #행렬을 zero로 채우는 함수\n",
        "arrayA "
      ],
      "metadata": {
        "colab": {
          "base_uri": "https://localhost:8080/"
        },
        "id": "SqcWE2TPH7vo",
        "outputId": "225a431b-192c-4d81-b7c3-5dfc72dda792"
      },
      "execution_count": null,
      "outputs": [
        {
          "output_type": "execute_result",
          "data": {
            "text/plain": [
              "array([[0., 0., 0., 0., 0., 0.],\n",
              "       [0., 0., 0., 0., 0., 0.],\n",
              "       [0., 0., 0., 0., 0., 0.]])"
            ]
          },
          "metadata": {},
          "execution_count": 20
        }
      ]
    },
    {
      "cell_type": "code",
      "source": [
        "import numpy as np\n",
        "arrayA=np.ones((3,6)) #행렬을 1로 채우는 함수\n",
        "arrayA"
      ],
      "metadata": {
        "colab": {
          "base_uri": "https://localhost:8080/"
        },
        "id": "QB6veO8eI5BF",
        "outputId": "c9dcea4f-251a-4711-e792-41c3c13c1296"
      },
      "execution_count": null,
      "outputs": [
        {
          "output_type": "execute_result",
          "data": {
            "text/plain": [
              "array([[1., 1., 1., 1., 1., 1.],\n",
              "       [1., 1., 1., 1., 1., 1.],\n",
              "       [1., 1., 1., 1., 1., 1.]])"
            ]
          },
          "metadata": {},
          "execution_count": 21
        }
      ]
    },
    {
      "cell_type": "code",
      "source": [
        "ar0 = np.arange(100,110)\n",
        "ar1 = np.arange(100,110).reshape(2,5)\n",
        "print(ar0,'\\n')\n",
        "print(ar1)"
      ],
      "metadata": {
        "colab": {
          "base_uri": "https://localhost:8080/"
        },
        "id": "MAr3nphcJANm",
        "outputId": "b74e2b85-16f0-4b66-9143-0aa349f4fe7b"
      },
      "execution_count": null,
      "outputs": [
        {
          "output_type": "stream",
          "name": "stdout",
          "text": [
            "[100 101 102 103 104 105 106 107 108 109] \n",
            "\n",
            "[[100 101 102 103 104]\n",
            " [105 106 107 108 109]]\n"
          ]
        }
      ]
    },
    {
      "cell_type": "code",
      "source": [
        "np.random.random((2,5,3))"
      ],
      "metadata": {
        "colab": {
          "base_uri": "https://localhost:8080/"
        },
        "id": "CGhniK1OJ2Ls",
        "outputId": "f8dad434-913b-4b9e-ffc0-398505d08f6a"
      },
      "execution_count": null,
      "outputs": [
        {
          "output_type": "execute_result",
          "data": {
            "text/plain": [
              "array([[[0.20795377, 0.78913065, 0.69674132],\n",
              "        [0.89547117, 0.85342749, 0.56538107],\n",
              "        [0.46579781, 0.33425785, 0.45343808],\n",
              "        [0.80281904, 0.92003664, 0.55713302],\n",
              "        [0.3942839 , 0.26613073, 0.01793522]],\n",
              "\n",
              "       [[0.32834778, 0.14841104, 0.77595993],\n",
              "        [0.5577281 , 0.3620907 , 0.31466657],\n",
              "        [0.4714489 , 0.34574611, 0.37227291],\n",
              "        [0.50869587, 0.43995709, 0.50352676],\n",
              "        [0.63589925, 0.83795625, 0.79348666]]])"
            ]
          },
          "metadata": {},
          "execution_count": 24
        }
      ]
    },
    {
      "cell_type": "code",
      "source": [
        "np.random.random((2,4))"
      ],
      "metadata": {
        "colab": {
          "base_uri": "https://localhost:8080/"
        },
        "id": "T-wjk5HsKTK1",
        "outputId": "18cb89c1-29d5-4cae-c8e9-3c6237afcb5b"
      },
      "execution_count": null,
      "outputs": [
        {
          "output_type": "execute_result",
          "data": {
            "text/plain": [
              "array([[0.61769209, 0.12486374, 0.5693581 , 0.21086434],\n",
              "       [0.26577199, 0.13661059, 0.52272829, 0.8669543 ]])"
            ]
          },
          "metadata": {},
          "execution_count": 25
        }
      ]
    },
    {
      "cell_type": "code",
      "source": [
        "np.random.uniform(3.5,6,(3,3))"
      ],
      "metadata": {
        "colab": {
          "base_uri": "https://localhost:8080/"
        },
        "id": "FO6retv4Ki1u",
        "outputId": "0ed4c82a-8c8a-438f-e0dc-d27fb0cec346"
      },
      "execution_count": null,
      "outputs": [
        {
          "output_type": "execute_result",
          "data": {
            "text/plain": [
              "array([[3.50911669, 3.56865021, 3.91950447],\n",
              "       [5.01963568, 5.86438889, 5.1927058 ],\n",
              "       [5.09846426, 5.79174921, 4.51047056]])"
            ]
          },
          "metadata": {},
          "execution_count": 27
        }
      ]
    },
    {
      "cell_type": "code",
      "source": [
        "np.random.randint(0,7,(2,3,4))"
      ],
      "metadata": {
        "colab": {
          "base_uri": "https://localhost:8080/"
        },
        "id": "XgSQ3dH7KmXF",
        "outputId": "e88bafdf-0603-4292-b65b-57a10977cac3"
      },
      "execution_count": null,
      "outputs": [
        {
          "output_type": "execute_result",
          "data": {
            "text/plain": [
              "array([[[3, 0, 2, 1],\n",
              "        [2, 5, 4, 1],\n",
              "        [4, 0, 2, 4]],\n",
              "\n",
              "       [[4, 2, 0, 5],\n",
              "        [1, 3, 6, 2],\n",
              "        [4, 3, 2, 6]]])"
            ]
          },
          "metadata": {},
          "execution_count": 28
        }
      ]
    },
    {
      "cell_type": "code",
      "source": [
        "np.random.randint(-5,5,7)"
      ],
      "metadata": {
        "colab": {
          "base_uri": "https://localhost:8080/"
        },
        "id": "ojmc_LjAKs80",
        "outputId": "631efefa-923b-4bcf-f2fd-2882acc49c76"
      },
      "execution_count": null,
      "outputs": [
        {
          "output_type": "execute_result",
          "data": {
            "text/plain": [
              "array([ 2,  3,  1, -4,  3, -2, -5])"
            ]
          },
          "metadata": {},
          "execution_count": 29
        }
      ]
    },
    {
      "cell_type": "code",
      "source": [
        "import numpy as np\n",
        "a = np.linspace(0, 15, 4)\n",
        "print(a)\n",
        "b = np.linspace(0,1,5)\n",
        "print(b)"
      ],
      "metadata": {
        "colab": {
          "base_uri": "https://localhost:8080/"
        },
        "id": "HRko5KIzKvyG",
        "outputId": "184cd8b7-66e6-4708-d821-21285ff473cc"
      },
      "execution_count": null,
      "outputs": [
        {
          "output_type": "stream",
          "name": "stdout",
          "text": [
            "[ 0.  5. 10. 15.]\n",
            "[0.   0.25 0.5  0.75 1.  ]\n"
          ]
        }
      ]
    },
    {
      "cell_type": "code",
      "source": [
        "a = np.arange(10).reshape(2,5)\n",
        "print(a,'\\n')\n",
        "print(a.T)   #Transpose 시키는것"
      ],
      "metadata": {
        "colab": {
          "base_uri": "https://localhost:8080/"
        },
        "id": "-kY7lR91LKZl",
        "outputId": "a67a08fd-65c3-4dd8-e615-f8db798735c7"
      },
      "execution_count": null,
      "outputs": [
        {
          "output_type": "stream",
          "name": "stdout",
          "text": [
            "[[0 1 2 3 4]\n",
            " [5 6 7 8 9]] \n",
            "\n",
            "[[0 5]\n",
            " [1 6]\n",
            " [2 7]\n",
            " [3 8]\n",
            " [4 9]]\n"
          ]
        }
      ]
    },
    {
      "cell_type": "code",
      "source": [
        "ar = np.arange(12).reshape(2,2,3)\n",
        "print(ar,'\\n')\n",
        "print(ar[0],'\\n')\n",
        "print(ar[0][1],'\\n')\n",
        "print(ar[0,1,2])"
      ],
      "metadata": {
        "colab": {
          "base_uri": "https://localhost:8080/"
        },
        "id": "VFFdRVZKLyp3",
        "outputId": "7f1d2c60-8184-45b2-a7e8-eafea7445edb"
      },
      "execution_count": null,
      "outputs": [
        {
          "output_type": "stream",
          "name": "stdout",
          "text": [
            "[[[ 0  1  2]\n",
            "  [ 3  4  5]]\n",
            "\n",
            " [[ 6  7  8]\n",
            "  [ 9 10 11]]] \n",
            "\n",
            "[[0 1 2]\n",
            " [3 4 5]] \n",
            "\n",
            "[3 4 5] \n",
            "\n",
            "5\n"
          ]
        }
      ]
    },
    {
      "cell_type": "code",
      "source": [
        "ar = np.arange(12).reshape(3,4)\n",
        "print(ar[0:, 1:],'\\n')\n",
        "print(ar[1:, 1:],'\\n')\n",
        "print(ar[1:2,1:2])"
      ],
      "metadata": {
        "colab": {
          "base_uri": "https://localhost:8080/"
        },
        "id": "NCADIGxaPKTD",
        "outputId": "3294bc3b-6696-4c5f-fd5c-abbec1ea9b1a"
      },
      "execution_count": null,
      "outputs": [
        {
          "output_type": "stream",
          "name": "stdout",
          "text": [
            "[[ 1  2  3]\n",
            " [ 5  6  7]\n",
            " [ 9 10 11]] \n",
            "\n",
            "[[ 5  6  7]\n",
            " [ 9 10 11]] \n",
            "\n",
            "[[5]]\n"
          ]
        }
      ]
    },
    {
      "cell_type": "code",
      "source": [
        "import numpy as np\n",
        "ar0 = np.array([10, 8, 15, 7, 19])\n",
        "print(ar0,'\\n')\n",
        "ar1 = np.arange(10,100,10).reshape(3,3)\n",
        "print(ar1,'\\n')\n",
        "#ar2 = np.array([[[100,90,80],[70,60,50]],[[]]]) 뭐 이런식으로 만들면 됨"
      ],
      "metadata": {
        "colab": {
          "base_uri": "https://localhost:8080/"
        },
        "id": "HpbQ2UfCQfm2",
        "outputId": "b8b30c01-679e-4772-9b30-9b94e19b94b8"
      },
      "execution_count": null,
      "outputs": [
        {
          "output_type": "stream",
          "name": "stdout",
          "text": [
            "[10  8 15  7 19] \n",
            "\n",
            "[[10 20 30]\n",
            " [40 50 60]\n",
            " [70 80 90]]\n"
          ]
        }
      ]
    },
    {
      "cell_type": "code",
      "source": [
        "ar = np.arange(10,25).reshape(3,5)\n",
        "ar"
      ],
      "metadata": {
        "colab": {
          "base_uri": "https://localhost:8080/"
        },
        "id": "1DMkhKrERCvX",
        "outputId": "a64f8d00-133e-4c25-fdfa-f9c06d7a87f1"
      },
      "execution_count": null,
      "outputs": [
        {
          "output_type": "execute_result",
          "data": {
            "text/plain": [
              "array([[10, 11, 12, 13, 14],\n",
              "       [15, 16, 17, 18, 19],\n",
              "       [20, 21, 22, 23, 24]])"
            ]
          },
          "metadata": {},
          "execution_count": 43
        }
      ]
    },
    {
      "cell_type": "code",
      "source": [
        "ar = np.arange(11,61).reshape(2,5,5)\n",
        "ar"
      ],
      "metadata": {
        "colab": {
          "base_uri": "https://localhost:8080/"
        },
        "id": "Vc9TaPYjS7TO",
        "outputId": "2592f031-56c8-49bf-896a-2b1b828e2bf9"
      },
      "execution_count": null,
      "outputs": [
        {
          "output_type": "execute_result",
          "data": {
            "text/plain": [
              "array([[[11, 12, 13, 14, 15],\n",
              "        [16, 17, 18, 19, 20],\n",
              "        [21, 22, 23, 24, 25],\n",
              "        [26, 27, 28, 29, 30],\n",
              "        [31, 32, 33, 34, 35]],\n",
              "\n",
              "       [[36, 37, 38, 39, 40],\n",
              "        [41, 42, 43, 44, 45],\n",
              "        [46, 47, 48, 49, 50],\n",
              "        [51, 52, 53, 54, 55],\n",
              "        [56, 57, 58, 59, 60]]])"
            ]
          },
          "metadata": {},
          "execution_count": 45
        }
      ]
    },
    {
      "cell_type": "code",
      "source": [
        "ar = np.arange(74, 250, 5).reshape(3,3,4)\n",
        "ar"
      ],
      "metadata": {
        "colab": {
          "base_uri": "https://localhost:8080/"
        },
        "id": "C3hfYfl2TGOR",
        "outputId": "083dd3cd-27e4-4e4a-e9b1-cd235c62c77f"
      },
      "execution_count": null,
      "outputs": [
        {
          "output_type": "execute_result",
          "data": {
            "text/plain": [
              "array([[[ 74,  79,  84,  89],\n",
              "        [ 94,  99, 104, 109],\n",
              "        [114, 119, 124, 129]],\n",
              "\n",
              "       [[134, 139, 144, 149],\n",
              "        [154, 159, 164, 169],\n",
              "        [174, 179, 184, 189]],\n",
              "\n",
              "       [[194, 199, 204, 209],\n",
              "        [214, 219, 224, 229],\n",
              "        [234, 239, 244, 249]]])"
            ]
          },
          "metadata": {},
          "execution_count": 52
        }
      ]
    },
    {
      "cell_type": "code",
      "source": [
        "ar = np.ones((2,5,4,))\n",
        "ar"
      ],
      "metadata": {
        "colab": {
          "base_uri": "https://localhost:8080/"
        },
        "id": "CKVHqAWXTP-x",
        "outputId": "720472eb-5a03-41bf-c168-2b120c37d17c"
      },
      "execution_count": null,
      "outputs": [
        {
          "output_type": "execute_result",
          "data": {
            "text/plain": [
              "array([[[1., 1., 1., 1.],\n",
              "        [1., 1., 1., 1.],\n",
              "        [1., 1., 1., 1.],\n",
              "        [1., 1., 1., 1.],\n",
              "        [1., 1., 1., 1.]],\n",
              "\n",
              "       [[1., 1., 1., 1.],\n",
              "        [1., 1., 1., 1.],\n",
              "        [1., 1., 1., 1.],\n",
              "        [1., 1., 1., 1.],\n",
              "        [1., 1., 1., 1.]]])"
            ]
          },
          "metadata": {},
          "execution_count": 54
        }
      ]
    },
    {
      "cell_type": "code",
      "source": [
        "ar = np.zeros((3,3,3))\n",
        "ar"
      ],
      "metadata": {
        "colab": {
          "base_uri": "https://localhost:8080/"
        },
        "id": "6dyjGU3MUKGR",
        "outputId": "ae38641b-de9d-466e-ae59-306a2818a783"
      },
      "execution_count": null,
      "outputs": [
        {
          "output_type": "execute_result",
          "data": {
            "text/plain": [
              "array([[[0., 0., 0.],\n",
              "        [0., 0., 0.],\n",
              "        [0., 0., 0.]],\n",
              "\n",
              "       [[0., 0., 0.],\n",
              "        [0., 0., 0.],\n",
              "        [0., 0., 0.]],\n",
              "\n",
              "       [[0., 0., 0.],\n",
              "        [0., 0., 0.],\n",
              "        [0., 0., 0.]]])"
            ]
          },
          "metadata": {},
          "execution_count": 56
        }
      ]
    },
    {
      "cell_type": "code",
      "source": [
        "ar = np.random.random((5,5,2))\n",
        "ar"
      ],
      "metadata": {
        "colab": {
          "base_uri": "https://localhost:8080/"
        },
        "id": "tU4KAcy2USNE",
        "outputId": "1a1e8388-fa3e-4ffb-ef00-9bd0199568f9"
      },
      "execution_count": null,
      "outputs": [
        {
          "output_type": "execute_result",
          "data": {
            "text/plain": [
              "array([[[0.44174361, 0.23100554],\n",
              "        [0.51605676, 0.16829166],\n",
              "        [0.83525799, 0.3516442 ],\n",
              "        [0.6308635 , 0.78920303],\n",
              "        [0.45686383, 0.07678585]],\n",
              "\n",
              "       [[0.97479885, 0.85160476],\n",
              "        [0.22479371, 0.48017056],\n",
              "        [0.25731651, 0.91479592],\n",
              "        [0.92185725, 0.59262145],\n",
              "        [0.73801498, 0.37983054]],\n",
              "\n",
              "       [[0.73296778, 0.88955775],\n",
              "        [0.71794281, 0.34967265],\n",
              "        [0.21042558, 0.07844734],\n",
              "        [0.80312099, 0.58078283],\n",
              "        [0.24107378, 0.93408183]],\n",
              "\n",
              "       [[0.32303961, 0.74317385],\n",
              "        [0.74888686, 0.29040651],\n",
              "        [0.65114406, 0.57418352],\n",
              "        [0.37602732, 0.1531619 ],\n",
              "        [0.06281904, 0.17165595]],\n",
              "\n",
              "       [[0.00162321, 0.7892185 ],\n",
              "        [0.09165033, 0.12250115],\n",
              "        [0.90705867, 0.95470418],\n",
              "        [0.74524741, 0.32400809],\n",
              "        [0.59137727, 0.20250718]]])"
            ]
          },
          "metadata": {},
          "execution_count": 57
        }
      ]
    },
    {
      "cell_type": "code",
      "source": [
        "ar = np.random.uniform(4.5,7,(7,1,4))\n",
        "ar"
      ],
      "metadata": {
        "colab": {
          "base_uri": "https://localhost:8080/"
        },
        "id": "hg9cFB4jUcvo",
        "outputId": "973ff339-48ed-463e-f3b3-0b44a2eead1c"
      },
      "execution_count": null,
      "outputs": [
        {
          "output_type": "execute_result",
          "data": {
            "text/plain": [
              "array([[[5.12366618, 6.21065321, 5.26726089, 6.99154047]],\n",
              "\n",
              "       [[5.19685306, 6.56814089, 5.67682222, 5.98527849]],\n",
              "\n",
              "       [[4.99617917, 6.72144905, 6.55440668, 6.06998058]],\n",
              "\n",
              "       [[6.78588179, 6.87725236, 4.82313383, 4.67621203]],\n",
              "\n",
              "       [[4.60370004, 4.76433295, 6.43845815, 6.37158813]],\n",
              "\n",
              "       [[6.35075114, 6.56404191, 6.91654132, 4.9111493 ]],\n",
              "\n",
              "       [[6.28936098, 4.81705047, 4.83678544, 6.69520343]]])"
            ]
          },
          "metadata": {},
          "execution_count": 60
        }
      ]
    },
    {
      "cell_type": "code",
      "source": [
        "ar = np.linspace(110,120,5)\n",
        "ar"
      ],
      "metadata": {
        "colab": {
          "base_uri": "https://localhost:8080/"
        },
        "id": "4SrxcZ1QUuHP",
        "outputId": "32843f3e-010c-45c8-9f4d-f6caede88b6f"
      },
      "execution_count": null,
      "outputs": [
        {
          "output_type": "execute_result",
          "data": {
            "text/plain": [
              "array([110. , 112.5, 115. , 117.5, 120. ])"
            ]
          },
          "metadata": {},
          "execution_count": 62
        }
      ]
    },
    {
      "cell_type": "code",
      "source": [
        "ar = np.arange(0,27).reshape(3,9)\n",
        "ar0 = ar.T # ar0 = np.transpose(ar) 로 해도 전치행렬된다.\n",
        "ar0"
      ],
      "metadata": {
        "colab": {
          "base_uri": "https://localhost:8080/"
        },
        "id": "3h9lGeNjVEzO",
        "outputId": "ac00a93b-7b81-4abf-855d-df489372500c"
      },
      "execution_count": null,
      "outputs": [
        {
          "output_type": "execute_result",
          "data": {
            "text/plain": [
              "array([[ 0,  9, 18],\n",
              "       [ 1, 10, 19],\n",
              "       [ 2, 11, 20],\n",
              "       [ 3, 12, 21],\n",
              "       [ 4, 13, 22],\n",
              "       [ 5, 14, 23],\n",
              "       [ 6, 15, 24],\n",
              "       [ 7, 16, 25],\n",
              "       [ 8, 17, 26]])"
            ]
          },
          "metadata": {},
          "execution_count": 64
        }
      ]
    },
    {
      "cell_type": "code",
      "source": [
        "ar = np.arange(15).reshape(3,5) #어떤형태가 나올지 예상하고 슬라이싱하는 연습을 해봐라\n",
        "ar0 = ar[1:,1:]\n",
        "print(ar,'\\n')\n",
        "print(ar0,'\\n')\n",
        "ar1 = ar[:2,:1]\n",
        "print(ar1,'\\n')\n",
        "ar2 = ar[1:2, 3:]\n",
        "print(ar2)"
      ],
      "metadata": {
        "colab": {
          "base_uri": "https://localhost:8080/"
        },
        "id": "sMJZ5iYUVjqy",
        "outputId": "5ba8f57b-083d-40b9-96d8-4d2eba245541"
      },
      "execution_count": null,
      "outputs": [
        {
          "output_type": "stream",
          "name": "stdout",
          "text": [
            "[[ 0  1  2  3  4]\n",
            " [ 5  6  7  8  9]\n",
            " [10 11 12 13 14]] \n",
            "\n",
            "[[ 6  7  8  9]\n",
            " [11 12 13 14]] \n",
            "\n",
            "[[0]\n",
            " [5]] \n",
            "\n",
            "[[8 9]]\n"
          ]
        }
      ]
    },
    {
      "cell_type": "code",
      "source": [
        "ar = np.random.random((2,2,4))\n",
        "print(ar,'\\n')\n",
        "print(np.min(ar[:1,]),'\\n')\n",
        "print(np.max(ar))"
      ],
      "metadata": {
        "colab": {
          "base_uri": "https://localhost:8080/"
        },
        "id": "L6ylYupJXBQE",
        "outputId": "55fdb061-af95-4514-b099-d9ecbaf59eb2"
      },
      "execution_count": null,
      "outputs": [
        {
          "output_type": "stream",
          "name": "stdout",
          "text": [
            "[[[0.28925519 0.83455945 0.6479253  0.29008643]\n",
            "  [0.39733093 0.20675606 0.36199388 0.05870398]]\n",
            "\n",
            " [[0.16813195 0.34882375 0.75002423 0.41615126]\n",
            "  [0.82612079 0.739028   0.71712565 0.09056938]]] \n",
            "\n",
            "0.05870397688067586 \n",
            "\n",
            "0.8345594464484094\n"
          ]
        }
      ]
    },
    {
      "cell_type": "code",
      "source": [
        "ar = np.random.random((2,2,4))\n",
        "print(ar,'\\n')\n",
        "print(np.argmin(ar),'\\n')\n",
        "np.argmax(ar)"
      ],
      "metadata": {
        "colab": {
          "base_uri": "https://localhost:8080/"
        },
        "id": "NMWhI1ThbNVh",
        "outputId": "5230ef31-d733-4a4a-f95c-706f310423ef"
      },
      "execution_count": null,
      "outputs": [
        {
          "output_type": "stream",
          "name": "stdout",
          "text": [
            "[[[0.66161819 0.52401993 0.64474971 0.1279311 ]\n",
            "  [0.17967589 0.84411612 0.90834332 0.12894254]]\n",
            "\n",
            " [[0.92356836 0.78584711 0.42160658 0.08036056]\n",
            "  [0.06060646 0.63557129 0.55956921 0.18418349]]] \n",
            "\n",
            "12 \n",
            "\n"
          ]
        },
        {
          "output_type": "execute_result",
          "data": {
            "text/plain": [
              "8"
            ]
          },
          "metadata": {},
          "execution_count": 74
        }
      ]
    },
    {
      "cell_type": "code",
      "source": [
        "ar = np.arange(1, 31, 2).reshape(3,5)\n",
        "print(ar,'\\n')\n",
        "print(np.sum(ar),'\\n')\n",
        "print(np.mean(ar),'\\n')\n",
        "print(np.median(ar))"
      ],
      "metadata": {
        "colab": {
          "base_uri": "https://localhost:8080/"
        },
        "id": "Qt1JehVgb1WQ",
        "outputId": "7405bb16-0665-4a96-a53f-1cbfbdf01726"
      },
      "execution_count": null,
      "outputs": [
        {
          "output_type": "stream",
          "name": "stdout",
          "text": [
            "[[ 1  3  5  7  9]\n",
            " [11 13 15 17 19]\n",
            " [21 23 25 27 29]] \n",
            "\n",
            "225 \n",
            "\n",
            "15.0 \n",
            "\n",
            "15.0\n"
          ]
        }
      ]
    },
    {
      "cell_type": "code",
      "source": [
        "ar = np.arange(1, 31, 2).reshape(3,5)\n",
        "print(ar,'\\n')\n",
        "print(np.sum(ar, axis=0),'\\n')\n",
        "print(np.sum(ar, axis=1),'\\n')\n",
        "print(np.sum(ar, axis=0),'\\n')\n",
        "print(np.sum(ar[1:], axis=0))"
      ],
      "metadata": {
        "colab": {
          "base_uri": "https://localhost:8080/"
        },
        "id": "g5fpFGlHcac-",
        "outputId": "9e799b51-7d4e-4f0e-b1fc-b8176bfae0bf"
      },
      "execution_count": null,
      "outputs": [
        {
          "output_type": "stream",
          "name": "stdout",
          "text": [
            "[[ 1  3  5  7  9]\n",
            " [11 13 15 17 19]\n",
            " [21 23 25 27 29]] \n",
            "\n",
            "[33 39 45 51 57] \n",
            "\n",
            "[ 25  75 125] \n",
            "\n",
            "[33 39 45 51 57] \n",
            "\n",
            "[32 36 40 44 48]\n"
          ]
        }
      ]
    },
    {
      "cell_type": "code",
      "source": [
        "ar = np.arange(1,15)\n",
        "np.random.shuffle(ar)\n",
        "print(ar,'\\n')\n",
        "print(np.sort(ar))"
      ],
      "metadata": {
        "colab": {
          "base_uri": "https://localhost:8080/"
        },
        "id": "A_Y4MMqIdf7r",
        "outputId": "a66eaa3e-65d9-4f91-e6a8-28f1dbfa6b17"
      },
      "execution_count": null,
      "outputs": [
        {
          "output_type": "stream",
          "name": "stdout",
          "text": [
            "[ 7  4  5 11 10 12  6 13  9 14  3  1  2  8] \n",
            "\n",
            "[ 1  2  3  4  5  6  7  8  9 10 11 12 13 14]\n"
          ]
        }
      ]
    },
    {
      "cell_type": "code",
      "source": [
        "ar = np.arange(1,16)\n",
        "np.random.shuffle(ar)\n",
        "ar = ar.reshape(3,5)\n",
        "print(ar,'\\n')\n",
        "ar2= np.sort(ar)\n",
        "print(ar2,'\\n')\n",
        "ar3 = np.sort(ar, axis=0)\n",
        "print(ar3)"
      ],
      "metadata": {
        "colab": {
          "base_uri": "https://localhost:8080/"
        },
        "id": "BxQUMV5Nd4sY",
        "outputId": "b7740553-4746-4b4c-cb30-b70043491cf2"
      },
      "execution_count": null,
      "outputs": [
        {
          "output_type": "stream",
          "name": "stdout",
          "text": [
            "[[14 11  1 15 10]\n",
            " [ 9  3  7  2  4]\n",
            " [13  5  6 12  8]] \n",
            "\n",
            "[[ 1 10 11 14 15]\n",
            " [ 2  3  4  7  9]\n",
            " [ 5  6  8 12 13]] \n",
            "\n",
            "[[ 9  3  1  2  4]\n",
            " [13  5  6 12  8]\n",
            " [14 11  7 15 10]]\n"
          ]
        }
      ]
    },
    {
      "cell_type": "code",
      "source": [
        "ar = np.random.randint(-10,10,(2,5))\n",
        "print(ar,'\\n')\n",
        "np.unique(ar)"
      ],
      "metadata": {
        "colab": {
          "base_uri": "https://localhost:8080/"
        },
        "id": "TmxzHzZoegk9",
        "outputId": "e7c29526-3a00-47c4-e345-5a42a051bf30"
      },
      "execution_count": null,
      "outputs": [
        {
          "output_type": "stream",
          "name": "stdout",
          "text": [
            "[[ -6  -6  -6 -10  -7]\n",
            " [  5   2  -6   7  -6]] \n",
            "\n"
          ]
        },
        {
          "output_type": "execute_result",
          "data": {
            "text/plain": [
              "array([-10,  -7,  -6,   2,   5,   7])"
            ]
          },
          "metadata": {},
          "execution_count": 85
        }
      ]
    },
    {
      "cell_type": "code",
      "source": [],
      "metadata": {
        "id": "cVIl5Y3QfDQo"
      },
      "execution_count": null,
      "outputs": []
    }
  ]
}